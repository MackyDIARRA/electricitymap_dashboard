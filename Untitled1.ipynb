{
 "cells": [
  {
   "cell_type": "code",
   "execution_count": 6,
   "id": "521a7ef0-2c10-484c-a6f4-ce15490b34f2",
   "metadata": {},
   "outputs": [
    {
     "name": "stdout",
     "output_type": "stream",
     "text": [
      "['AM', 'AR', 'AX', 'BD', 'BG', 'BO', 'BR', 'CA_AB', 'CA_BC', 'CA_NB', 'CA_NS', 'CA_ON', 'CA_PE', 'CA_QC', 'CA_YT', 'CH', 'CL', 'CR', 'CY', 'DK', 'DK_BHM', 'DO', 'EIA', 'ELEXON', 'ENTE', 'ENTSOE', 'ESIOS', 'ES_CN', 'ES_IB', 'FO', 'FR', 'FR_O', 'GB_NIR', 'GB_ORK', 'GCCIA', 'GE', 'GT', 'HOPS', 'IL', 'IN', 'IN_AP', 'IN_CT', 'IN_DL', 'IN_GJ', 'IN_HP', 'IN_KA', 'IN_MH', 'IN_PB', 'IN_UP', 'IN_UT', 'IQ', 'IS', 'JP-KY', 'JP', 'JP_ISEP', 'JP_KN', 'KR', 'KW', 'MD', 'MX', 'MY_WM', 'NG', 'NI', 'NL', 'NZ', 'OPENNEM', 'PA', 'PE', 'PF', 'RU', 'SE', 'SG', 'SV', 'TR', 'TW', 'UA', 'US_BPA', 'US_CA', 'US_HI', 'US_MISO', 'US_NEISO', 'US_NY', 'US_PJM', 'US_PREPA', 'US_SPP', 'UY', 'XK', 'ajenti', 'config', 'exceptions', 'occtonet', 'parsers', 'quality', 'statnett', 'utils', 'validation', 'web', 'zonekey']\n",
      "<module 'lib.BD' from '/Users/mackydiarra/dev/electricitymap/electricitymap_dashboard/lib/BD.py'>\n"
     ]
    },
    {
     "name": "stdin",
     "output_type": "stream",
     "text": [
      "veuillez rentrer le code du pays correspondant :  FR\n"
     ]
    },
    {
     "name": "stderr",
     "output_type": "stream",
     "text": [
      "Self-consumption data not yet available for FR at 2022-01-27 07:00:00+00:00\n"
     ]
    },
    {
     "data": {
      "application/vnd.jupyter.widget-view+json": {
       "model_id": "7a9d3797b64f43d39816f917d265f3fc",
       "version_major": 2,
       "version_minor": 0
      },
      "text/plain": [
       "Figure(axes=[Axis(label='time ', scale=OrdinalScale()), Axis(label='production (MWh) ', label_offset='6ex', or…"
      ]
     },
     "metadata": {},
     "output_type": "display_data"
    }
   ],
   "source": [
    "import numpy as np\n",
    "import bqplot.pyplot as plt\n",
    "from bqplot import CATEGORY10, ColorScale , DateScale, LinearScale, Lines, Axis, Figure , OrdinalScale , Bars , Axis\n",
    "from lib.ENTSOE import fetch_consumption\n",
    "import pandas as pd\n",
    "from datetime import datetime, timedelta\n",
    "import lib\n",
    "from pkgutil import iter_modules\n",
    "import importlib\n",
    "\n",
    "parsers_submodules = [module.name for module in iter_modules(lib.__path__)]\n",
    "print(parsers_submodules)\n",
    "\n",
    "country_parser = importlib.import_module('lib.{}'.format(parsers_submodules[3]))\n",
    "print(country_parser)\n",
    "\n",
    "find = str(input(\"veuillez rentrer le code du pays correspondant : \"))\n",
    "a = fetch_consumption(find)\n",
    "     \n",
    "param_consumption = [param1[2] for param1 in a]\n",
    "\n",
    "param2 = [param[1] for param in a]\n",
    "\n",
    "\n",
    "consumption_data = param_consumption\n",
    "time_data = np.array(param2,dtype='datetime64')\n",
    "\n",
    "\n",
    "fig = plt.figure(title=\"Electricity consumption\")\n",
    "\n",
    "axes_options = {\"x\": {\"label\": \"time \"}, \"y\": {\"label\": \"production (MWh) \",\"label_offset\" : \"6ex\"}}\n",
    "bar1 =  plt.bar(time_data,consumption_data,colors=CATEGORY10, labels=[\"oil\", \"Biomass\", \"Coal\",\"Wind\",\"Hydro\",\"Gas\",\"\",\"Nuclear\"],display_legend=True,)\n",
    "axes = plt.axes(options = axes_options)\n",
    "\n",
    "fig\n"
   ]
  },
  {
   "cell_type": "code",
   "execution_count": null,
   "id": "69d3fc8f-36ed-418c-8d43-f51763e716fa",
   "metadata": {},
   "outputs": [],
   "source": []
  }
 ],
 "metadata": {
  "kernelspec": {
   "display_name": "Python 3 (ipykernel)",
   "language": "python",
   "name": "python3"
  },
  "language_info": {
   "codemirror_mode": {
    "name": "ipython",
    "version": 3
   },
   "file_extension": ".py",
   "mimetype": "text/x-python",
   "name": "python",
   "nbconvert_exporter": "python",
   "pygments_lexer": "ipython3",
   "version": "3.10.0"
  }
 },
 "nbformat": 4,
 "nbformat_minor": 5
}
