{
 "cells": [
  {
   "cell_type": "code",
   "execution_count": 27,
   "id": "83571e3c-56c4-4fa8-a5fc-4440e9d1d6a2",
   "metadata": {},
   "outputs": [
    {
     "data": {
      "text/plain": [
       "0.010416666666666666"
      ]
     },
     "execution_count": 27,
     "metadata": {},
     "output_type": "execute_result"
    }
   ],
   "source": [
    "def u(n):\n",
    "    if n >= 1 :\n",
    "        Un = n/((n**2)+n)\n",
    "    return Un\n",
    "u(95)"
   ]
  },
  {
   "cell_type": "code",
   "execution_count": null,
   "id": "e1457bbb-985a-4b18-9c35-2e8e2ec8f780",
   "metadata": {},
   "outputs": [],
   "source": []
  }
 ],
 "metadata": {
  "kernelspec": {
   "display_name": "Python 3 (ipykernel)",
   "language": "python",
   "name": "python3"
  },
  "language_info": {
   "codemirror_mode": {
    "name": "ipython",
    "version": 3
   },
   "file_extension": ".py",
   "mimetype": "text/x-python",
   "name": "python",
   "nbconvert_exporter": "python",
   "pygments_lexer": "ipython3",
   "version": "3.10.0"
  }
 },
 "nbformat": 4,
 "nbformat_minor": 5
}
