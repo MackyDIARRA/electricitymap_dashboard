{
 "cells": [
  {
   "cell_type": "code",
   "execution_count": 1,
   "id": "fe7781d3-91f0-489c-a38e-ffd010aa923e",
   "metadata": {},
   "outputs": [
    {
     "name": "stderr",
     "output_type": "stream",
     "text": [
      "Self-consumption data not yet available for AT at 2022-02-17 08:45:00+00:00\n"
     ]
    },
    {
     "name": "stdout",
     "output_type": "stream",
     "text": [
      "{'zoneKey': 'AT', 'datetime': datetime.datetime(2022, 2, 17, 8, 45, tzinfo=tzutc()), 'consumption': 9038.0, 'source': 'entsoe.eu'}\n"
     ]
    },
    {
     "name": "stderr",
     "output_type": "stream",
     "text": [
      "/var/folders/d3/jm92yqd96dz8jxjznnxtzjmm0000gp/T/ipykernel_66334/2125583503.py:35: DeprecationWarning: parsing timezone aware datetimes is deprecated; this will raise an error in the future\n",
      "  datetime_data = np.array([param2],dtype='datetime64')\n"
     ]
    }
   ],
   "source": [
    "import numpy as np\n",
    "import bqplot.pyplot as plt\n",
    "from bqplot import CATEGORY10, ColorScale , DateScale, LinearScale, Lines, Axis, Figure , OrdinalScale , Bars , Axis\n",
    "from lib.ENTSOE import fetch_consumption\n",
    "import pandas as pd\n",
    "from datetime import datetime, timedelta\n",
    "import lib\n",
    "from pkgutil import iter_modules\n",
    "import importlib\n",
    "import os\n",
    "from ipywidgets import TwoByTwoLayout , Button, Layout, jslink, IntText, IntSlider, FloatSlider, Dropdown\n",
    "import json\n",
    "import random\n",
    "import requests\n",
    "from ipyleaflet import Map, GeoJSON, WidgetControl, FullScreenControl, ZoomControl\n",
    "import ipywidgets as widgets\n",
    "from ipyflex import FlexLayout\n",
    "\"\"\"\n",
    "country_code = ['AT', 'BE', 'BG', 'CH', 'CZ', 'DE', 'EE', 'ES', 'FI','FR' ,'GB', 'GR', 'HU', 'IE', 'IT', 'PL', 'PT', 'RO', 'RS', 'SI', 'SK']\n",
    "print(country_code)\n",
    "\n",
    "find = str(input(\"veuillez rentrer le code du pays correspondant : \"))\n",
    "\"\"\"\n",
    "a = fetch_consumption('AT')\n",
    "\n",
    "\n",
    "\n",
    "\n",
    "param1 =a['consumption'] \n",
    "param2 = a['datetime'] \n",
    "\n",
    "print(a)\n",
    "\n",
    "consumption_data = param1\n",
    "datetime_data = np.array([param2],dtype='datetime64')\n",
    "\n"
   ]
  },
  {
   "cell_type": "code",
   "execution_count": 26,
   "id": "b9915ebc-0c1a-47fe-894e-6a0a8c93c95a",
   "metadata": {},
   "outputs": [
    {
     "data": {
      "text/plain": [
       "9488.0"
      ]
     },
     "execution_count": 26,
     "metadata": {},
     "output_type": "execute_result"
    }
   ],
   "source": [
    "param1"
   ]
  },
  {
   "cell_type": "code",
   "execution_count": 27,
   "id": "23ad217a-038d-4318-a7a6-b4d6e809e9d3",
   "metadata": {},
   "outputs": [
    {
     "data": {
      "text/plain": [
       "datetime.datetime(2022, 2, 15, 10, 15, tzinfo=tzutc())"
      ]
     },
     "execution_count": 27,
     "metadata": {},
     "output_type": "execute_result"
    }
   ],
   "source": [
    "param2\n"
   ]
  },
  {
   "cell_type": "code",
   "execution_count": 28,
   "id": "41481abb-42b7-47d0-9b4c-351dd73af3b3",
   "metadata": {},
   "outputs": [
    {
     "data": {
      "application/vnd.jupyter.widget-view+json": {
       "model_id": "e76bceaec47a4eeb8a56a5d864f0899e",
       "version_major": 2,
       "version_minor": 0
      },
      "text/plain": [
       "Figure(axes=[Axis(scale=DateScale()), Axis(orientation='vertical', scale=LinearScale())], fig_margin={'top': 6…"
      ]
     },
     "metadata": {},
     "output_type": "display_data"
    }
   ],
   "source": [
    "\n",
    "fig = plt.figure(title=\"Electricity  consumption\")\n",
    "bar = plt.bar(datetime_data, [param1,700])\n",
    "fig\n"
   ]
  },
  {
   "cell_type": "code",
   "execution_count": null,
   "id": "8ed5ba3c-e89e-409d-8865-af33d9138759",
   "metadata": {},
   "outputs": [],
   "source": []
  }
 ],
 "metadata": {
  "kernelspec": {
   "display_name": "Python 3 (ipykernel)",
   "language": "python",
   "name": "python3"
  },
  "language_info": {
   "codemirror_mode": {
    "name": "ipython",
    "version": 3
   },
   "file_extension": ".py",
   "mimetype": "text/x-python",
   "name": "python",
   "nbconvert_exporter": "python",
   "pygments_lexer": "ipython3",
   "version": "3.10.0"
  }
 },
 "nbformat": 4,
 "nbformat_minor": 5
}
