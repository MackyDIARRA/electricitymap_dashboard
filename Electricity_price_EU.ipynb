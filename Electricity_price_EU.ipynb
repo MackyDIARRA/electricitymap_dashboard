{
 "cells": [
  {
   "cell_type": "code",
   "execution_count": 1,
   "id": "0657dc28-b02b-4180-aa02-99083ff4c019",
   "metadata": {},
   "outputs": [
    {
     "name": "stdin",
     "output_type": "stream",
     "text": [
      "veuillez rentrer le code du pays correspondant :  FR\n"
     ]
    },
    {
     "name": "stdout",
     "output_type": "stream",
     "text": [
      "['AM', 'AR', 'AX', 'BD', 'BG', 'BO', 'BR', 'CA_AB', 'CA_BC', 'CA_NB', 'CA_NS', 'CA_ON', 'CA_PE', 'CA_QC', 'CA_YT', 'CH', 'CL', 'CR', 'CY', 'DK', 'DK_BHM', 'DO', 'EIA', 'ELEXON', 'ENTE', 'ENTSOE', 'ESIOS', 'ES_CN', 'ES_IB', 'FO', 'FR', 'FR_O', 'GB_NIR', 'GB_ORK', 'GCCIA', 'GE', 'GT', 'HOPS', 'IL', 'IN', 'IN_AP', 'IN_CT', 'IN_DL', 'IN_GJ', 'IN_HP', 'IN_KA', 'IN_MH', 'IN_PB', 'IN_UP', 'IN_UT', 'IQ', 'IS', 'JP-KY', 'JP', 'JP_ISEP', 'JP_KN', 'KR', 'KW', 'MD', 'MX', 'MY_WM', 'NG', 'NI', 'NL', 'NZ', 'OPENNEM', 'PA', 'PE', 'PF', 'RU', 'SE', 'SG', 'SV', 'TR', 'TW', 'UA', 'US_BPA', 'US_CA', 'US_HI', 'US_MISO', 'US_NEISO', 'US_NY', 'US_PJM', 'US_PREPA', 'US_SPP', 'UY', 'XK', 'ajenti', 'config', 'exceptions', 'occtonet', 'parsers', 'quality', 'statnett', 'utils', 'validation', 'web', 'zonekey']\n",
      "<module 'lib.BD' from '/Users/mackydiarra/dev/electricitymap/electricitymap_dashboard/lib/BD.py'>\n"
     ]
    },
    {
     "name": "stderr",
     "output_type": "stream",
     "text": [
      "/var/folders/d3/jm92yqd96dz8jxjznnxtzjmm0000gp/T/ipykernel_53375/4246621212.py:29: DeprecationWarning: parsing timezone aware datetimes is deprecated; this will raise an error in the future\n",
      "  datetime_data = np.array(param2,dtype='datetime64')\n"
     ]
    },
    {
     "data": {
      "application/vnd.jupyter.widget-view+json": {
       "model_id": "6040c54cfc5f46659d5fda635c4f9bc1",
       "version_major": 2,
       "version_minor": 0
      },
      "text/plain": [
       "Figure(axes=[Axis(scale=DateScale()), Axis(orientation='vertical', scale=LinearScale())], fig_margin={'top': 6…"
      ]
     },
     "metadata": {},
     "output_type": "display_data"
    }
   ],
   "source": [
    "import numpy as np\n",
    "import bqplot.pyplot as plt\n",
    "from bqplot import CATEGORY10, ColorScale , DateScale, LinearScale, Lines, Axis, Figure , OrdinalScale , Bars\n",
    "from lib.ENTSOE import fetch_price\n",
    "import pandas as pd\n",
    "import lib\n",
    "from datetime import datetime, timedelta\n",
    "from pkgutil import iter_modules\n",
    "import importlib\n",
    "\n",
    "\n",
    "\n",
    "find = str(input(\"veuillez rentrer le code du pays correspondant : \"))\n",
    "a = fetch_price(find)\n",
    "\n",
    "\n",
    "parsers_submodules = [module.name for module in iter_modules(lib.__path__)]\n",
    "print(parsers_submodules)\n",
    "country_parser = importlib.import_module('lib.{}'.format(parsers_submodules[3]))\n",
    "print(country_parser)\n",
    "\n",
    "\n",
    "\n",
    "param1 = [param['price'] for param in a]\n",
    "param2 = [param['datetime'] for param in a]\n",
    "\n",
    "\n",
    "price_data = param1\n",
    "datetime_data = np.array(param2,dtype='datetime64')\n",
    "\n",
    "fig = plt.figure(title=\"Electricity price\")\n",
    "bar = plt.bar(datetime_data, price_data)\n",
    "fig\n",
    "\n"
   ]
  },
  {
   "cell_type": "code",
   "execution_count": null,
   "id": "eb56d0d5-3c4d-4e9a-a7fe-0ffa965365a9",
   "metadata": {},
   "outputs": [],
   "source": []
  }
 ],
 "metadata": {
  "kernelspec": {
   "display_name": "Python 3 (ipykernel)",
   "language": "python",
   "name": "python3"
  },
  "language_info": {
   "codemirror_mode": {
    "name": "ipython",
    "version": 3
   },
   "file_extension": ".py",
   "mimetype": "text/x-python",
   "name": "python",
   "nbconvert_exporter": "python",
   "pygments_lexer": "ipython3",
   "version": "3.10.0"
  }
 },
 "nbformat": 4,
 "nbformat_minor": 5
}
