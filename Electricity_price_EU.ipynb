{
 "cells": [
  {
   "cell_type": "code",
   "execution_count": 3,
   "id": "0657dc28-b02b-4180-aa02-99083ff4c019",
   "metadata": {},
   "outputs": [
    {
     "name": "stdin",
     "output_type": "stream",
     "text": [
      "veuillez rentrer le code du pays correspondant :  DE\n"
     ]
    },
    {
     "name": "stdout",
     "output_type": "stream",
     "text": [
      "[{'zoneKey': 'DE', 'datetime': datetime.datetime(2022, 2, 20, 23, 0, tzinfo=tzutc()), 'currency': 'EUR', 'price': 10.73, 'source': 'entsoe.eu'}, {'zoneKey': 'DE', 'datetime': datetime.datetime(2022, 2, 21, 0, 0, tzinfo=tzutc()), 'currency': 'EUR', 'price': 7.48, 'source': 'entsoe.eu'}, {'zoneKey': 'DE', 'datetime': datetime.datetime(2022, 2, 21, 1, 0, tzinfo=tzutc()), 'currency': 'EUR', 'price': 5.71, 'source': 'entsoe.eu'}, {'zoneKey': 'DE', 'datetime': datetime.datetime(2022, 2, 21, 2, 0, tzinfo=tzutc()), 'currency': 'EUR', 'price': 1.43, 'source': 'entsoe.eu'}, {'zoneKey': 'DE', 'datetime': datetime.datetime(2022, 2, 21, 3, 0, tzinfo=tzutc()), 'currency': 'EUR', 'price': 7.6, 'source': 'entsoe.eu'}, {'zoneKey': 'DE', 'datetime': datetime.datetime(2022, 2, 21, 4, 0, tzinfo=tzutc()), 'currency': 'EUR', 'price': 14.37, 'source': 'entsoe.eu'}, {'zoneKey': 'DE', 'datetime': datetime.datetime(2022, 2, 21, 5, 0, tzinfo=tzutc()), 'currency': 'EUR', 'price': 19.75, 'source': 'entsoe.eu'}, {'zoneKey': 'DE', 'datetime': datetime.datetime(2022, 2, 21, 6, 0, tzinfo=tzutc()), 'currency': 'EUR', 'price': 106.69, 'source': 'entsoe.eu'}, {'zoneKey': 'DE', 'datetime': datetime.datetime(2022, 2, 21, 7, 0, tzinfo=tzutc()), 'currency': 'EUR', 'price': 110.06, 'source': 'entsoe.eu'}, {'zoneKey': 'DE', 'datetime': datetime.datetime(2022, 2, 21, 8, 0, tzinfo=tzutc()), 'currency': 'EUR', 'price': 88.28, 'source': 'entsoe.eu'}, {'zoneKey': 'DE', 'datetime': datetime.datetime(2022, 2, 21, 9, 0, tzinfo=tzutc()), 'currency': 'EUR', 'price': 65.51, 'source': 'entsoe.eu'}, {'zoneKey': 'DE', 'datetime': datetime.datetime(2022, 2, 21, 10, 0, tzinfo=tzutc()), 'currency': 'EUR', 'price': 78.22, 'source': 'entsoe.eu'}, {'zoneKey': 'DE', 'datetime': datetime.datetime(2022, 2, 21, 11, 0, tzinfo=tzutc()), 'currency': 'EUR', 'price': 92.02, 'source': 'entsoe.eu'}, {'zoneKey': 'DE', 'datetime': datetime.datetime(2022, 2, 21, 12, 0, tzinfo=tzutc()), 'currency': 'EUR', 'price': 99.9, 'source': 'entsoe.eu'}, {'zoneKey': 'DE', 'datetime': datetime.datetime(2022, 2, 21, 13, 0, tzinfo=tzutc()), 'currency': 'EUR', 'price': 104.92, 'source': 'entsoe.eu'}, {'zoneKey': 'DE', 'datetime': datetime.datetime(2022, 2, 21, 14, 0, tzinfo=tzutc()), 'currency': 'EUR', 'price': 108.77, 'source': 'entsoe.eu'}, {'zoneKey': 'DE', 'datetime': datetime.datetime(2022, 2, 21, 15, 0, tzinfo=tzutc()), 'currency': 'EUR', 'price': 103.46, 'source': 'entsoe.eu'}, {'zoneKey': 'DE', 'datetime': datetime.datetime(2022, 2, 21, 16, 0, tzinfo=tzutc()), 'currency': 'EUR', 'price': 117.78, 'source': 'entsoe.eu'}, {'zoneKey': 'DE', 'datetime': datetime.datetime(2022, 2, 21, 17, 0, tzinfo=tzutc()), 'currency': 'EUR', 'price': 135.59, 'source': 'entsoe.eu'}, {'zoneKey': 'DE', 'datetime': datetime.datetime(2022, 2, 21, 18, 0, tzinfo=tzutc()), 'currency': 'EUR', 'price': 123.63, 'source': 'entsoe.eu'}, {'zoneKey': 'DE', 'datetime': datetime.datetime(2022, 2, 21, 19, 0, tzinfo=tzutc()), 'currency': 'EUR', 'price': 110.71, 'source': 'entsoe.eu'}, {'zoneKey': 'DE', 'datetime': datetime.datetime(2022, 2, 21, 20, 0, tzinfo=tzutc()), 'currency': 'EUR', 'price': 102.0, 'source': 'entsoe.eu'}, {'zoneKey': 'DE', 'datetime': datetime.datetime(2022, 2, 21, 21, 0, tzinfo=tzutc()), 'currency': 'EUR', 'price': 102.83, 'source': 'entsoe.eu'}, {'zoneKey': 'DE', 'datetime': datetime.datetime(2022, 2, 21, 22, 0, tzinfo=tzutc()), 'currency': 'EUR', 'price': 92.55, 'source': 'entsoe.eu'}, {'zoneKey': 'DE', 'datetime': datetime.datetime(2022, 2, 21, 23, 0, tzinfo=tzutc()), 'currency': 'EUR', 'price': 89.99, 'source': 'entsoe.eu'}, {'zoneKey': 'DE', 'datetime': datetime.datetime(2022, 2, 22, 0, 0, tzinfo=tzutc()), 'currency': 'EUR', 'price': 82.14, 'source': 'entsoe.eu'}, {'zoneKey': 'DE', 'datetime': datetime.datetime(2022, 2, 22, 1, 0, tzinfo=tzutc()), 'currency': 'EUR', 'price': 80.34, 'source': 'entsoe.eu'}, {'zoneKey': 'DE', 'datetime': datetime.datetime(2022, 2, 22, 2, 0, tzinfo=tzutc()), 'currency': 'EUR', 'price': 79.9, 'source': 'entsoe.eu'}, {'zoneKey': 'DE', 'datetime': datetime.datetime(2022, 2, 22, 3, 0, tzinfo=tzutc()), 'currency': 'EUR', 'price': 88.16, 'source': 'entsoe.eu'}, {'zoneKey': 'DE', 'datetime': datetime.datetime(2022, 2, 22, 4, 0, tzinfo=tzutc()), 'currency': 'EUR', 'price': 95.36, 'source': 'entsoe.eu'}, {'zoneKey': 'DE', 'datetime': datetime.datetime(2022, 2, 22, 5, 0, tzinfo=tzutc()), 'currency': 'EUR', 'price': 117.86, 'source': 'entsoe.eu'}, {'zoneKey': 'DE', 'datetime': datetime.datetime(2022, 2, 22, 6, 0, tzinfo=tzutc()), 'currency': 'EUR', 'price': 185.78, 'source': 'entsoe.eu'}, {'zoneKey': 'DE', 'datetime': datetime.datetime(2022, 2, 22, 7, 0, tzinfo=tzutc()), 'currency': 'EUR', 'price': 211.59, 'source': 'entsoe.eu'}, {'zoneKey': 'DE', 'datetime': datetime.datetime(2022, 2, 22, 8, 0, tzinfo=tzutc()), 'currency': 'EUR', 'price': 180.27, 'source': 'entsoe.eu'}, {'zoneKey': 'DE', 'datetime': datetime.datetime(2022, 2, 22, 9, 0, tzinfo=tzutc()), 'currency': 'EUR', 'price': 144.08, 'source': 'entsoe.eu'}, {'zoneKey': 'DE', 'datetime': datetime.datetime(2022, 2, 22, 10, 0, tzinfo=tzutc()), 'currency': 'EUR', 'price': 135.04, 'source': 'entsoe.eu'}, {'zoneKey': 'DE', 'datetime': datetime.datetime(2022, 2, 22, 11, 0, tzinfo=tzutc()), 'currency': 'EUR', 'price': 121.25, 'source': 'entsoe.eu'}, {'zoneKey': 'DE', 'datetime': datetime.datetime(2022, 2, 22, 12, 0, tzinfo=tzutc()), 'currency': 'EUR', 'price': 117.66, 'source': 'entsoe.eu'}, {'zoneKey': 'DE', 'datetime': datetime.datetime(2022, 2, 22, 13, 0, tzinfo=tzutc()), 'currency': 'EUR', 'price': 118.87, 'source': 'entsoe.eu'}, {'zoneKey': 'DE', 'datetime': datetime.datetime(2022, 2, 22, 14, 0, tzinfo=tzutc()), 'currency': 'EUR', 'price': 125.29, 'source': 'entsoe.eu'}, {'zoneKey': 'DE', 'datetime': datetime.datetime(2022, 2, 22, 15, 0, tzinfo=tzutc()), 'currency': 'EUR', 'price': 136.7, 'source': 'entsoe.eu'}, {'zoneKey': 'DE', 'datetime': datetime.datetime(2022, 2, 22, 16, 0, tzinfo=tzutc()), 'currency': 'EUR', 'price': 155.21, 'source': 'entsoe.eu'}, {'zoneKey': 'DE', 'datetime': datetime.datetime(2022, 2, 22, 17, 0, tzinfo=tzutc()), 'currency': 'EUR', 'price': 162.62, 'source': 'entsoe.eu'}, {'zoneKey': 'DE', 'datetime': datetime.datetime(2022, 2, 22, 18, 0, tzinfo=tzutc()), 'currency': 'EUR', 'price': 135.49, 'source': 'entsoe.eu'}, {'zoneKey': 'DE', 'datetime': datetime.datetime(2022, 2, 22, 19, 0, tzinfo=tzutc()), 'currency': 'EUR', 'price': 108.62, 'source': 'entsoe.eu'}, {'zoneKey': 'DE', 'datetime': datetime.datetime(2022, 2, 22, 20, 0, tzinfo=tzutc()), 'currency': 'EUR', 'price': 100.54, 'source': 'entsoe.eu'}, {'zoneKey': 'DE', 'datetime': datetime.datetime(2022, 2, 22, 21, 0, tzinfo=tzutc()), 'currency': 'EUR', 'price': 99.99, 'source': 'entsoe.eu'}, {'zoneKey': 'DE', 'datetime': datetime.datetime(2022, 2, 22, 22, 0, tzinfo=tzutc()), 'currency': 'EUR', 'price': 85.08, 'source': 'entsoe.eu'}, {'zoneKey': 'DE', 'datetime': datetime.datetime(2022, 2, 22, 23, 0, tzinfo=tzutc()), 'currency': 'EUR', 'price': 81.79, 'source': 'entsoe.eu'}, {'zoneKey': 'DE', 'datetime': datetime.datetime(2022, 2, 23, 0, 0, tzinfo=tzutc()), 'currency': 'EUR', 'price': 78.96, 'source': 'entsoe.eu'}, {'zoneKey': 'DE', 'datetime': datetime.datetime(2022, 2, 23, 1, 0, tzinfo=tzutc()), 'currency': 'EUR', 'price': 82.28, 'source': 'entsoe.eu'}, {'zoneKey': 'DE', 'datetime': datetime.datetime(2022, 2, 23, 2, 0, tzinfo=tzutc()), 'currency': 'EUR', 'price': 88.34, 'source': 'entsoe.eu'}, {'zoneKey': 'DE', 'datetime': datetime.datetime(2022, 2, 23, 3, 0, tzinfo=tzutc()), 'currency': 'EUR', 'price': 97.32, 'source': 'entsoe.eu'}, {'zoneKey': 'DE', 'datetime': datetime.datetime(2022, 2, 23, 4, 0, tzinfo=tzutc()), 'currency': 'EUR', 'price': 101.7, 'source': 'entsoe.eu'}, {'zoneKey': 'DE', 'datetime': datetime.datetime(2022, 2, 23, 5, 0, tzinfo=tzutc()), 'currency': 'EUR', 'price': 118.36, 'source': 'entsoe.eu'}, {'zoneKey': 'DE', 'datetime': datetime.datetime(2022, 2, 23, 6, 0, tzinfo=tzutc()), 'currency': 'EUR', 'price': 147.54, 'source': 'entsoe.eu'}, {'zoneKey': 'DE', 'datetime': datetime.datetime(2022, 2, 23, 7, 0, tzinfo=tzutc()), 'currency': 'EUR', 'price': 155.03, 'source': 'entsoe.eu'}, {'zoneKey': 'DE', 'datetime': datetime.datetime(2022, 2, 23, 8, 0, tzinfo=tzutc()), 'currency': 'EUR', 'price': 126.44, 'source': 'entsoe.eu'}, {'zoneKey': 'DE', 'datetime': datetime.datetime(2022, 2, 23, 9, 0, tzinfo=tzutc()), 'currency': 'EUR', 'price': 109.43, 'source': 'entsoe.eu'}, {'zoneKey': 'DE', 'datetime': datetime.datetime(2022, 2, 23, 10, 0, tzinfo=tzutc()), 'currency': 'EUR', 'price': 103.51, 'source': 'entsoe.eu'}, {'zoneKey': 'DE', 'datetime': datetime.datetime(2022, 2, 23, 11, 0, tzinfo=tzutc()), 'currency': 'EUR', 'price': 89.9, 'source': 'entsoe.eu'}, {'zoneKey': 'DE', 'datetime': datetime.datetime(2022, 2, 23, 12, 0, tzinfo=tzutc()), 'currency': 'EUR', 'price': 89.9, 'source': 'entsoe.eu'}, {'zoneKey': 'DE', 'datetime': datetime.datetime(2022, 2, 23, 13, 0, tzinfo=tzutc()), 'currency': 'EUR', 'price': 100.9, 'source': 'entsoe.eu'}, {'zoneKey': 'DE', 'datetime': datetime.datetime(2022, 2, 23, 14, 0, tzinfo=tzutc()), 'currency': 'EUR', 'price': 109.49, 'source': 'entsoe.eu'}, {'zoneKey': 'DE', 'datetime': datetime.datetime(2022, 2, 23, 15, 0, tzinfo=tzutc()), 'currency': 'EUR', 'price': 162.8, 'source': 'entsoe.eu'}, {'zoneKey': 'DE', 'datetime': datetime.datetime(2022, 2, 23, 16, 0, tzinfo=tzutc()), 'currency': 'EUR', 'price': 205.72, 'source': 'entsoe.eu'}, {'zoneKey': 'DE', 'datetime': datetime.datetime(2022, 2, 23, 17, 0, tzinfo=tzutc()), 'currency': 'EUR', 'price': 230.0, 'source': 'entsoe.eu'}, {'zoneKey': 'DE', 'datetime': datetime.datetime(2022, 2, 23, 18, 0, tzinfo=tzutc()), 'currency': 'EUR', 'price': 236.86, 'source': 'entsoe.eu'}, {'zoneKey': 'DE', 'datetime': datetime.datetime(2022, 2, 23, 19, 0, tzinfo=tzutc()), 'currency': 'EUR', 'price': 187.04, 'source': 'entsoe.eu'}, {'zoneKey': 'DE', 'datetime': datetime.datetime(2022, 2, 23, 20, 0, tzinfo=tzutc()), 'currency': 'EUR', 'price': 164.6, 'source': 'entsoe.eu'}, {'zoneKey': 'DE', 'datetime': datetime.datetime(2022, 2, 23, 21, 0, tzinfo=tzutc()), 'currency': 'EUR', 'price': 146.62, 'source': 'entsoe.eu'}, {'zoneKey': 'DE', 'datetime': datetime.datetime(2022, 2, 23, 22, 0, tzinfo=tzutc()), 'currency': 'EUR', 'price': 107.6, 'source': 'entsoe.eu'}]\n"
     ]
    },
    {
     "name": "stderr",
     "output_type": "stream",
     "text": [
      "/var/folders/d3/jm92yqd96dz8jxjznnxtzjmm0000gp/T/ipykernel_221/246240154.py:22: DeprecationWarning: parsing timezone aware datetimes is deprecated; this will raise an error in the future\n",
      "  datetime_data = np.array(param2,dtype='datetime64')\n"
     ]
    },
    {
     "data": {
      "application/vnd.jupyter.widget-view+json": {
       "model_id": "a4beed0c07304663923fb160127fe911",
       "version_major": 2,
       "version_minor": 0
      },
      "text/plain": [
       "Figure(axes=[Axis(scale=DateScale()), Axis(orientation='vertical', scale=LinearScale())], fig_margin={'top': 6…"
      ]
     },
     "metadata": {},
     "output_type": "display_data"
    }
   ],
   "source": [
    "import numpy as np\n",
    "import bqplot.pyplot as plt\n",
    "from bqplot import CATEGORY10, ColorScale , DateScale, LinearScale, Lines, Axis, Figure , OrdinalScale , Bars\n",
    "from lib.ENTSOE import fetch_price\n",
    "import pandas as pd\n",
    "import lib\n",
    "from datetime import datetime, timedelta\n",
    "from pkgutil import iter_modules\n",
    "import importlib\n",
    "\n",
    "find = str(input(\"veuillez rentrer le code du pays correspondant : \"))\n",
    "a = fetch_price('DE')\n",
    "print(a)\n",
    "\n",
    "\n",
    "\n",
    "\n",
    "param1 = [param['price'] for param in a]\n",
    "param2 = [param['datetime'] for param in a]\n",
    "\n",
    "price_data = param1\n",
    "datetime_data = np.array(param2,dtype='datetime64')\n",
    "\n",
    "fig = plt.figure(title=\"Electricity price\")\n",
    "bar = plt.bar(datetime_data,price_data)\n",
    "fig\n",
    "\n"
   ]
  },
  {
   "cell_type": "code",
   "execution_count": null,
   "id": "eb56d0d5-3c4d-4e9a-a7fe-0ffa965365a9",
   "metadata": {},
   "outputs": [],
   "source": []
  }
 ],
 "metadata": {
  "kernelspec": {
   "display_name": "Python 3 (ipykernel)",
   "language": "python",
   "name": "python3"
  },
  "language_info": {
   "codemirror_mode": {
    "name": "ipython",
    "version": 3
   },
   "file_extension": ".py",
   "mimetype": "text/x-python",
   "name": "python",
   "nbconvert_exporter": "python",
   "pygments_lexer": "ipython3",
   "version": "3.10.0"
  }
 },
 "nbformat": 4,
 "nbformat_minor": 5
}
