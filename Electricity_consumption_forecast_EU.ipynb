{
 "cells": [
  {
   "cell_type": "code",
   "execution_count": 1,
   "id": "f5b81cca-2ded-4225-8562-e0a8510ea949",
   "metadata": {},
   "outputs": [
    {
     "name": "stdout",
     "output_type": "stream",
     "text": [
      "['AT', 'BE', 'BG', 'CH', 'CZ', 'DE', 'EE', 'ES', 'FI', 'FR', 'GB', 'GR', 'HU', 'IE', 'IT', 'PL', 'PT', 'RO', 'RS', 'SI', 'SK']\n"
     ]
    },
    {
     "name": "stdin",
     "output_type": "stream",
     "text": [
      "veuillez rentrer le code du pays correspondant :  IE\n"
     ]
    },
    {
     "name": "stderr",
     "output_type": "stream",
     "text": [
      "/var/folders/d3/jm92yqd96dz8jxjznnxtzjmm0000gp/T/ipykernel_66791/3043836386.py:24: DeprecationWarning: parsing timezone aware datetimes is deprecated; this will raise an error in the future\n",
      "  datetime_data = np.array(param2,dtype='datetime64')\n"
     ]
    },
    {
     "data": {
      "application/vnd.jupyter.widget-view+json": {
       "model_id": "8230941f10ce4d7b955295550076938a",
       "version_major": 2,
       "version_minor": 0
      },
      "text/plain": [
       "Figure(axes=[Axis(scale=DateScale()), Axis(orientation='vertical', scale=LinearScale())], fig_margin={'top': 6…"
      ]
     },
     "metadata": {},
     "output_type": "display_data"
    }
   ],
   "source": [
    "import numpy as np\n",
    "import bqplot.pyplot as plt\n",
    "from bqplot import CATEGORY10, ColorScale , DateScale, LinearScale, Lines, Axis, Figure , OrdinalScale , Bars\n",
    "from lib.ENTSOE import fetch_consumption_forecast\n",
    "import pandas as pd\n",
    "import lib\n",
    "from datetime import datetime, timedelta\n",
    "from pkgutil import iter_modules\n",
    "import importlib\n",
    "\n",
    "country_code= ['AT', 'BE', 'BG', 'CH', 'CZ', 'DE', 'EE', 'ES', 'FI','FR' ,'GB', 'GR', 'HU', 'IE', 'IT', 'PL', 'PT', 'RO', 'RS', 'SI', 'SK']\n",
    "print(country_code)\n",
    "find = str(input(\"veuillez rentrer le code du pays correspondant : \"))\n",
    "a = fetch_consumption_forecast(find)\n",
    "\n",
    "\n",
    "\n",
    "\n",
    "param1 = [param['value'] for param in a]\n",
    "param2 = [param['datetime'] for param in a]\n",
    "\n",
    "\n",
    "price_data = param1\n",
    "datetime_data = np.array(param2,dtype='datetime64')\n",
    "\n",
    "fig = plt.figure(title=\"Electricity consumption forecast\")\n",
    "bar = plt.bar(datetime_data, price_data)\n",
    "fig\n"
   ]
  },
  {
   "cell_type": "code",
   "execution_count": null,
   "id": "07b45721-a962-4ce0-a9b6-edd076de1121",
   "metadata": {},
   "outputs": [],
   "source": []
  }
 ],
 "metadata": {
  "kernelspec": {
   "display_name": "Python 3 (ipykernel)",
   "language": "python",
   "name": "python3"
  },
  "language_info": {
   "codemirror_mode": {
    "name": "ipython",
    "version": 3
   },
   "file_extension": ".py",
   "mimetype": "text/x-python",
   "name": "python",
   "nbconvert_exporter": "python",
   "pygments_lexer": "ipython3",
   "version": "3.10.0"
  }
 },
 "nbformat": 4,
 "nbformat_minor": 5
}
