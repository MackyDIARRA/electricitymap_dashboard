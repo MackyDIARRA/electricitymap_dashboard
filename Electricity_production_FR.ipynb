{
 "cells": [
  {
   "cell_type": "code",
   "execution_count": 4,
   "id": "20aaa653-02c7-46d4-a1d2-5fc6046e9af6",
   "metadata": {},
   "outputs": [
    {
     "name": "stdin",
     "output_type": "stream",
     "text": [
      "veuillez rentrer le code du pays correspondant :  AW\n"
     ]
    },
    {
     "name": "stderr",
     "output_type": "stream",
     "text": [
      "/var/folders/d3/jm92yqd96dz8jxjznnxtzjmm0000gp/T/ipykernel_14081/214178176.py:23: DeprecationWarning: parsing timezone aware datetimes is deprecated; this will raise an error in the future\n",
      "  time_data = np.array(param2,dtype='datetime64')\n"
     ]
    },
    {
     "data": {
      "application/vnd.jupyter.widget-view+json": {
       "model_id": "5351fb30abec4fdaa9a91b176a2531be",
       "version_major": 2,
       "version_minor": 0
      },
      "text/plain": [
       "Figure(axes=[Axis(label='time ', scale=DateScale()), Axis(label='production (MWh) ', label_offset='6ex', orien…"
      ]
     },
     "metadata": {},
     "output_type": "display_data"
    }
   ],
   "source": [
    "import numpy as np\n",
    "import bqplot.pyplot as plt\n",
    "from bqplot import CATEGORY10, ColorScale , DateScale, LinearScale, Lines, Axis, Figure , OrdinalScale , Bars , Axis\n",
    "from lib.FR import fetch_production\n",
    "import pandas as pd\n",
    "from datetime import datetime, timedelta\n",
    "\n",
    "trouver = str(input(\"veuillez rentrer le code du pays correspondant : \"))\n",
    "a = fetch_production(trouver)\n",
    "\n",
    "param_production = [param1['production'] for param1 in a]\n",
    "param_coal = [param1['coal'] for param1 in param_production]\n",
    "param_gas = [param1['gas'] for param1 in param_production]\n",
    "param_oil = [param1['oil'] for param1 in param_production]\n",
    "param_solar = [param1['solar'] for param1 in param_production]\n",
    "param_biomass = [param1['biomass'] for param1 in param_production]\n",
    "param_hydro = [param1['hydro'] for param1 in param_production]\n",
    "param_wind =[param1['wind'] for param1 in param_production]\n",
    "param2 = [param['datetime'] for param in a]\n",
    "\n",
    "\n",
    "production_data = [param_coal,param_gas,param_oil,param_solar,param_biomass,param_hydro,param_wind]\n",
    "time_data = np.array(param2,dtype='datetime64')\n",
    "\n",
    "\n",
    "fig = plt.figure(title=\"Electricity production\")\n",
    "\n",
    "axes_options = {\"x\": {\"label\": \"time \"}, \"y\": {\"label\": \"production (MWh) \",\"label_offset\" : \"6ex\"}}\n",
    "bar1 =  plt.bar(time_data,production_data,colors=CATEGORY10)\n",
    "axes = plt.axes(options = axes_options)\n",
    "\n",
    "fig\n",
    "\n"
   ]
  },
  {
   "cell_type": "code",
   "execution_count": null,
   "id": "1aeb1a88-8bab-4342-91b5-3d6460898230",
   "metadata": {},
   "outputs": [],
   "source": []
  },
  {
   "cell_type": "code",
   "execution_count": null,
   "id": "580eba50-1cf6-4f57-afdb-d5c5677f7f15",
   "metadata": {},
   "outputs": [],
   "source": []
  }
 ],
 "metadata": {
  "kernelspec": {
   "display_name": "Python 3 (ipykernel)",
   "language": "python",
   "name": "python3"
  },
  "language_info": {
   "codemirror_mode": {
    "name": "ipython",
    "version": 3
   },
   "file_extension": ".py",
   "mimetype": "text/x-python",
   "name": "python",
   "nbconvert_exporter": "python",
   "pygments_lexer": "ipython3",
   "version": "3.10.0"
  }
 },
 "nbformat": 4,
 "nbformat_minor": 5
}
