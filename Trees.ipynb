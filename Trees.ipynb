{
 "cells": [
  {
   "cell_type": "code",
   "execution_count": null,
   "id": "ef4c3c91-b4c6-4e55-9e47-2d590dfebe07",
   "metadata": {},
   "outputs": [],
   "source": [
    "import json"
   ]
  },
  {
   "cell_type": "code",
   "execution_count": null,
   "id": "c03fc04a-829c-40c7-ada6-dd9d4ebc5eaf",
   "metadata": {},
   "outputs": [],
   "source": [
    "with open('trees.json') as fobj:\n",
    "    data = json.load(fobj)"
   ]
  },
  {
   "cell_type": "code",
   "execution_count": null,
   "id": "20efed99-407b-4513-8202-856b44e33dfd",
   "metadata": {},
   "outputs": [],
   "source": [
    "data['schema']"
   ]
  },
  {
   "cell_type": "code",
   "execution_count": null,
   "id": "c0691696-3567-4ca9-86c2-74d61714af84",
   "metadata": {},
   "outputs": [],
   "source": [
    "data_subset = data['data'][0:500]"
   ]
  },
  {
   "cell_type": "code",
   "execution_count": null,
   "id": "88b98562-90aa-49bc-ad1b-a179abd02f46",
   "metadata": {},
   "outputs": [],
   "source": [
    "# data_subset"
   ]
  },
  {
   "cell_type": "code",
   "execution_count": null,
   "id": "a5480e00-5299-447d-94c9-6819bebe6ed7",
   "metadata": {},
   "outputs": [],
   "source": [
    "import geojson\n",
    "\n",
    "from ipyleaflet import Map, GeoJSON\n",
    "\n",
    "from traitlets import Float\n",
    "\n",
    "m = Map(center=[48.8566, 2.3522])\n",
    "\n",
    "geojson_data = geojson.Feature(\n",
    "    geometry=geojson.MultiPoint(\n",
    "        coordinates=[\n",
    "            [tree['lng'], tree['lat']]\n",
    "            for tree in data_subset\n",
    "        ],\n",
    "    )\n",
    ")\n",
    "\n",
    "point_style = {\"color\": \"green\", \"radius\": 3}\n",
    "\n",
    "geojson_layer = GeoJSON(data=geojson_data, point_style=point_style)\n",
    "\n",
    "m.add_layer(geojson_layer)\n",
    "\n",
    "m"
   ]
  },
  {
   "cell_type": "code",
   "execution_count": null,
   "id": "45301bac-78dc-4154-bc07-d6f6b086730d",
   "metadata": {},
   "outputs": [],
   "source": [
    "import pandas as pd\n",
    "from py2vega.functions.color import rgb\n",
    "from ipywidgets import Text, VBox\n",
    "from bqplot import LinearScale, ColorScale, OrdinalColorScale, OrdinalScale\n",
    "from ipydatagrid import DataGrid, TextRenderer, BarRenderer, Expr\n",
    "\n",
    "df = pd.DataFrame(data_subset).drop(\"index\", axis=1)\n",
    "df = df[sorted(df.columns)]\n",
    "\n",
    "# Get list of possible tree species and kinds for the ordinal color scales\n",
    "species = list(\n",
    "    set(\n",
    "        [\n",
    "            tree[\"Species\"]\n",
    "            for tree in data[\"data\"]\n",
    "            if tree[\"Species\"] is not None\n",
    "        ]\n",
    "    )\n",
    ")\n",
    "kinds = list(\n",
    "    set([tree[\"Kind\"] for tree in data[\"data\"] if tree[\"Kind\"] is not None])\n",
    ")\n",
    "\n",
    "# Text box for highlighting tree names\n",
    "highlight_box = Text(description=\"Highlight: \", value=\"Platane\")\n",
    "name_background_color = Expr(\n",
    "    \"'lightgreen' if '{}' in cell.value else default_value\".format(\n",
    "        highlight_box.value\n",
    "    )\n",
    ")\n",
    "\n",
    "\n",
    "def on_textbox_changed(*args, **kwargs):\n",
    "    name_background_color.value = (\n",
    "        \"'lightgreen' if '{}' in cell.value else default_value\".format(\n",
    "            highlight_box.value\n",
    "        )\n",
    "    )\n",
    "\n",
    "\n",
    "highlight_box.observe(on_textbox_changed, \"value\")\n",
    "\n",
    "\n",
    "def circumference_color(cell):\n",
    "    color_value = 255 if cell.value > 300 else (cell.value / 300) * 255\n",
    "    return rgb(0, color_value, color_value)\n",
    "\n",
    "\n",
    "renderers = {\n",
    "    \"French_name\": TextRenderer(background_color=name_background_color),\n",
    "    \"Height_m\": BarRenderer(\n",
    "        bar_value=LinearScale(min=0, max=30),\n",
    "        bar_color=ColorScale(min=0, max=30, scheme=\"viridis\"),\n",
    "        horizontal_alignment=\"center\",\n",
    "    ),\n",
    "    \"Species\": TextRenderer(\n",
    "        text_color=\"black\", background_color=OrdinalColorScale(domain=species)\n",
    "    ),\n",
    "    \"Kind\": TextRenderer(\n",
    "        text_color=\"black\", background_color=OrdinalColorScale(domain=kinds)\n",
    "    ),\n",
    "    \"Type\": TextRenderer(missing=\"Unspecified\"),\n",
    "    \"Circumference_cm\": BarRenderer(\n",
    "        bar_value=LinearScale(min=0, max=300),\n",
    "        bar_color=Expr(circumference_color),\n",
    "        horizontal_alignment=\"center\",\n",
    "    ),\n",
    "}\n",
    "\n",
    "datagrid = DataGrid(\n",
    "    df, base_row_size=32, base_column_size=90, renderers=renderers\n",
    ")\n",
    "VBox((highlight_box, datagrid))"
   ]
  },
  {
   "cell_type": "code",
   "execution_count": null,
   "id": "8bc8f8b0-8334-4691-8c0b-08ddab71a59a",
   "metadata": {},
   "outputs": [],
   "source": [
    "datagrid.selection_mode = 'row'"
   ]
  },
  {
   "cell_type": "code",
   "execution_count": null,
   "id": "fd42faf0-0ded-42ff-82a4-d89e69ecae3d",
   "metadata": {},
   "outputs": [],
   "source": [
    "from ipyleaflet import Marker\n",
    "\n",
    "marker = Marker()"
   ]
  },
  {
   "cell_type": "code",
   "execution_count": null,
   "id": "2a17ead6-e09a-4bf4-be07-362364f3aec2",
   "metadata": {},
   "outputs": [],
   "source": [
    "def on_click(cell_info):\n",
    "    selected_row = cell_info['row']\n",
    "\n",
    "    selected_tree = data_subset[selected_row]\n",
    "\n",
    "    marker.location = (selected_tree['lat'], selected_tree['lng'])"
   ]
  },
  {
   "cell_type": "code",
   "execution_count": null,
   "id": "7dfe832a-ed42-4a36-88c8-678c6337a841",
   "metadata": {},
   "outputs": [],
   "source": [
    "datagrid.on_cell_click(on_click)"
   ]
  },
  {
   "cell_type": "code",
   "execution_count": null,
   "id": "5d969f6c-08c6-4841-905f-7737d1da2863",
   "metadata": {},
   "outputs": [],
   "source": [
    "m.add_layer(marker)"
   ]
  },
  {
   "cell_type": "code",
   "execution_count": null,
   "id": "33f48bcb-8654-48cc-9ab6-26dec92ea4eb",
   "metadata": {},
   "outputs": [],
   "source": [
    "# data_subset"
   ]
  }
 ],
 "metadata": {
  "kernelspec": {
   "display_name": "Python 3 (ipykernel)",
   "language": "python",
   "name": "python3"
  },
  "language_info": {
   "codemirror_mode": {
    "name": "ipython",
    "version": 3
   },
   "file_extension": ".py",
   "mimetype": "text/x-python",
   "name": "python",
   "nbconvert_exporter": "python",
   "pygments_lexer": "ipython3",
   "version": "3.10.0"
  },
  "widgets": {
   "application/vnd.jupyter.widget-state+json": {
    "state": {},
    "version_major": 2,
    "version_minor": 0
   }
  }
 },
 "nbformat": 4,
 "nbformat_minor": 5
}
