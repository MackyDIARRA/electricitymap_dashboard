{
 "cells": [
  {
   "cell_type": "code",
   "execution_count": 1,
   "id": "00a9ae21-8446-4207-aae5-59e51ad821fa",
   "metadata": {},
   "outputs": [
    {
     "data": {
      "application/vnd.jupyter.widget-view+json": {
       "model_id": "27a2d7b0c1ca486dafc055d8748b46eb",
       "version_major": 2,
       "version_minor": 0
      },
      "text/plain": [
       "Map(center=[50.6252978589571, 0.34580993652344], controls=(ZoomControl(options=['position', 'zoom_in_text', 'z…"
      ]
     },
     "metadata": {},
     "output_type": "display_data"
    }
   ],
   "source": [
    "import numpy as np\n",
    "import bqplot.pyplot as plt\n",
    "from bqplot import CATEGORY10, ColorScale , DateScale, LinearScale, Lines, Axis, Figure , OrdinalScale , Bars , Axis\n",
    "from lib.ENTSOE import fetch_production\n",
    "import pandas as pd\n",
    "from datetime import datetime, timedelta\n",
    "import lib\n",
    "from pkgutil import iter_modules\n",
    "import importlib\n",
    "import os\n",
    "import json\n",
    "import random\n",
    "import requests\n",
    "from ipyleaflet import Map, GeoJSON\n",
    "\n",
    "\n",
    "parsers_submodules = [module.name for module in iter_modules(lib.__path__)]\n",
    "print(parsers_submodules)\n",
    "\n",
    "country_parser = importlib.import_module('lib.{}'.format(parsers_submodules[3]))\n",
    "print(country_parser)\n",
    "\n",
    "find = str(input(\"veuillez rentrer le code du pays correspondant : \"))\n",
    "a = fetch_production(find)\n",
    "     \n",
    "param_production = [param1['production'] for param1 in a]\n",
    "param_coal = [param1['coal'] for param1 in param_production]\n",
    "param_gas = [param1['gas'] for param1 in param_production]\n",
    "param_oil = [param1['oil'] for param1 in param_production]\n",
    "param_solar = [param1['solar'] for param1 in param_production]\n",
    "param_biomass = [param1['biomass'] for param1 in param_production]\n",
    "param_hydro = [param1['hydro'] for param1 in param_production]\n",
    "param_wind =[param1['wind'] for param1 in param_production]\n",
    "param2 = [param['datetime'] for param in a]\n",
    "\n",
    "\n",
    "production_data = [param_coal,param_gas,param_oil,param_solar,param_biomass,param_hydro,param_wind]\n",
    "time_data = np.array(param2,dtype='datetime64')\n",
    "\n",
    "\n",
    "fig = plt.figure(title=\"Electricity production\")\n",
    "\n",
    "axes_options = {\"x\": {\"label\": \"time \"}, \"y\": {\"label\": \"production (MWh) \",\"label_offset\" : \"6ex\"}}\n",
    "bar1 =  plt.bar(time_data,production_data,colors=CATEGORY10, labels=[\"oil\", \"Biomass\", \"Coal\",\"Wind\",\"Hydro\",\"Gas\",\"\",\"Nuclear\"],display_legend=True,)\n",
    "axes = plt.axes(options = axes_options)\n",
    "\n",
    "fig\n",
    "\n",
    "\n",
    "\n",
    "\n",
    "\n",
    "\n",
    "\n",
    "if not os.path.exists('zones.json'):\n",
    "    url = 'https://github.com/electricitymap/electricitymap-contrib/blob/72b1b1bfcd51f2916cb5a43b361ebefa164affa0/config/zones.json'\n",
    "    r = requests.get(url)\n",
    "    with open('zones.json', 'w') as f:\n",
    "        f.write(r.content.decode(\"utf-8\"))\n",
    "\n",
    "with open(\"./eu-countries.geo.json\") as f:\n",
    "    data = json.load(f)\n",
    "\n",
    "m = Map(center=(50.6252978589571, 0.34580993652344), zoom=3)\n",
    "\n",
    "geo_json = GeoJSON(data=data,style={'opacity': 1, 'dashArray': '9', 'fillOpacity': 0.1, 'weight': 1 },hover_style={'color': 'white', 'dashArray': '0', 'fillOpacity': 0.5},style_callback=random_color)\n",
    "m.add_layer(geo_json)\n",
    "\n",
    "\n",
    "\n",
    "\n",
    "\n",
    "m\n",
    "\n",
    "\n",
    "\n",
    "\n"
   ]
  },
  {
   "cell_type": "code",
   "execution_count": null,
   "id": "11f9a046-e31b-4fbf-822f-95ec78c7c00c",
   "metadata": {},
   "outputs": [],
   "source": []
  }
 ],
 "metadata": {
  "kernelspec": {
   "display_name": "Python 3 (ipykernel)",
   "language": "python",
   "name": "python3"
  },
  "language_info": {
   "codemirror_mode": {
    "name": "ipython",
    "version": 3
   },
   "file_extension": ".py",
   "mimetype": "text/x-python",
   "name": "python",
   "nbconvert_exporter": "python",
   "pygments_lexer": "ipython3",
   "version": "3.10.0"
  }
 },
 "nbformat": 4,
 "nbformat_minor": 5
}
