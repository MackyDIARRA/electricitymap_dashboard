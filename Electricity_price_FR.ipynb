{
 "cells": [
  {
   "cell_type": "code",
   "execution_count": 16,
   "id": "0657dc28-b02b-4180-aa02-99083ff4c019",
   "metadata": {},
   "outputs": [
    {
     "name": "stderr",
     "output_type": "stream",
     "text": [
      "/var/folders/d3/jm92yqd96dz8jxjznnxtzjmm0000gp/T/ipykernel_1671/1573768612.py:14: DeprecationWarning: parsing timezone aware datetimes is deprecated; this will raise an error in the future\n",
      "  datetime_data = np.array(param2,dtype='datetime64')\n"
     ]
    },
    {
     "data": {
      "application/vnd.jupyter.widget-view+json": {
       "model_id": "caf2f7541ab8427a8da8a8ab89abe953",
       "version_major": 2,
       "version_minor": 0
      },
      "text/plain": [
       "Figure(axes=[Axis(scale=DateScale()), Axis(orientation='vertical', scale=LinearScale())], fig_margin={'top': 6…"
      ]
     },
     "metadata": {},
     "output_type": "display_data"
    }
   ],
   "source": [
    "import numpy as np\n",
    "import bqplot.pyplot as plt\n",
    "from bqplot import CATEGORY10, ColorScale , DateScale, LinearScale, Lines, Axis, Figure , OrdinalScale , Bars\n",
    "from lib.FR import fetch_price\n",
    "import pandas as pd\n",
    "from datetime import datetime, timedelta\n",
    "\n",
    "a = fetch_price('FR')\n",
    "param1 = [param['price'] for param in a]\n",
    "\n",
    "param2 = [param['datetime'] for param in a]\n",
    "\n",
    "price_data = param1\n",
    "datetime_data = np.array(param2,dtype='datetime64')\n",
    "\n",
    "fig = plt.figure(title=\"Electricity price\")\n",
    "bar = plt.bar(datetime_data, price_data)\n",
    "fig\n",
    "\n"
   ]
  },
  {
   "cell_type": "code",
   "execution_count": null,
   "id": "eb56d0d5-3c4d-4e9a-a7fe-0ffa965365a9",
   "metadata": {},
   "outputs": [],
   "source": []
  }
 ],
 "metadata": {
  "kernelspec": {
   "display_name": "Python 3 (ipykernel)",
   "language": "python",
   "name": "python3"
  },
  "language_info": {
   "codemirror_mode": {
    "name": "ipython",
    "version": 3
   },
   "file_extension": ".py",
   "mimetype": "text/x-python",
   "name": "python",
   "nbconvert_exporter": "python",
   "pygments_lexer": "ipython3",
   "version": "3.10.0"
  }
 },
 "nbformat": 4,
 "nbformat_minor": 5
}
