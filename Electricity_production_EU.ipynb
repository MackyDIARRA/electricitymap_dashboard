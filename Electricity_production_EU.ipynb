{
 "cells": [
  {
   "cell_type": "code",
   "execution_count": 5,
   "id": "20aaa653-02c7-46d4-a1d2-5fc6046e9af6",
   "metadata": {},
   "outputs": [
    {
     "name": "stdout",
     "output_type": "stream",
     "text": [
      "['AM', 'AR', 'AX', 'BD', 'BG', 'BO', 'BR', 'CA_AB', 'CA_BC', 'CA_NB', 'CA_NS', 'CA_ON', 'CA_PE', 'CA_QC', 'CA_YT', 'CH', 'CL', 'CR', 'CY', 'DK', 'DK_BHM', 'DO', 'EIA', 'ELEXON', 'ENTE', 'ENTSOE', 'ESIOS', 'ES_CN', 'ES_IB', 'FO', 'FR', 'FR_O', 'GB_NIR', 'GB_ORK', 'GCCIA', 'GE', 'GT', 'HOPS', 'IL', 'IN', 'IN_AP', 'IN_CT', 'IN_DL', 'IN_GJ', 'IN_HP', 'IN_KA', 'IN_MH', 'IN_PB', 'IN_UP', 'IN_UT', 'IQ', 'IS', 'JP-KY', 'JP', 'JP_ISEP', 'JP_KN', 'KR', 'KW', 'MD', 'MX', 'MY_WM', 'NG', 'NI', 'NL', 'NZ', 'OPENNEM', 'PA', 'PE', 'PF', 'RU', 'SE', 'SG', 'SV', 'TR', 'TW', 'UA', 'US_BPA', 'US_CA', 'US_HI', 'US_MISO', 'US_NEISO', 'US_NY', 'US_PJM', 'US_PREPA', 'US_SPP', 'UY', 'XK', 'ajenti', 'config', 'exceptions', 'occtonet', 'parsers', 'quality', 'statnett', 'utils', 'validation', 'web', 'zonekey']\n",
      "<module 'lib.BD' from '/Users/mackydiarra/dev/electricitymap/electricitymap_dashboard/lib/BD.py'>\n"
     ]
    },
    {
     "name": "stdin",
     "output_type": "stream",
     "text": [
      "veuillez rentrer le code du pays correspondant :  FI\n"
     ]
    },
    {
     "name": "stderr",
     "output_type": "stream",
     "text": [
      "/var/folders/d3/jm92yqd96dz8jxjznnxtzjmm0000gp/T/ipykernel_53381/2339277881.py:32: DeprecationWarning: parsing timezone aware datetimes is deprecated; this will raise an error in the future\n",
      "  time_data = np.array(param2,dtype='datetime64')\n"
     ]
    },
    {
     "ename": "IndexError",
     "evalue": "list index out of range",
     "output_type": "error",
     "traceback": [
      "\u001b[0;31m---------------------------------------------------------------------------\u001b[0m",
      "\u001b[0;31mIndexError\u001b[0m                                Traceback (most recent call last)",
      "\u001b[0;32m/var/folders/d3/jm92yqd96dz8jxjznnxtzjmm0000gp/T/ipykernel_53381/2339277881.py\u001b[0m in \u001b[0;36m<module>\u001b[0;34m\u001b[0m\n\u001b[1;32m     36\u001b[0m \u001b[0;34m\u001b[0m\u001b[0m\n\u001b[1;32m     37\u001b[0m \u001b[0maxes_options\u001b[0m \u001b[0;34m=\u001b[0m \u001b[0;34m{\u001b[0m\u001b[0;34m\"x\"\u001b[0m\u001b[0;34m:\u001b[0m \u001b[0;34m{\u001b[0m\u001b[0;34m\"label\"\u001b[0m\u001b[0;34m:\u001b[0m \u001b[0;34m\"time \"\u001b[0m\u001b[0;34m}\u001b[0m\u001b[0;34m,\u001b[0m \u001b[0;34m\"y\"\u001b[0m\u001b[0;34m:\u001b[0m \u001b[0;34m{\u001b[0m\u001b[0;34m\"label\"\u001b[0m\u001b[0;34m:\u001b[0m \u001b[0;34m\"production (MWh) \"\u001b[0m\u001b[0;34m,\u001b[0m\u001b[0;34m\"label_offset\"\u001b[0m \u001b[0;34m:\u001b[0m \u001b[0;34m\"6ex\"\u001b[0m\u001b[0;34m}\u001b[0m\u001b[0;34m}\u001b[0m\u001b[0;34m\u001b[0m\u001b[0;34m\u001b[0m\u001b[0m\n\u001b[0;32m---> 38\u001b[0;31m \u001b[0mbar1\u001b[0m \u001b[0;34m=\u001b[0m  \u001b[0mplt\u001b[0m\u001b[0;34m.\u001b[0m\u001b[0mbar\u001b[0m\u001b[0;34m(\u001b[0m\u001b[0mtime_data\u001b[0m\u001b[0;34m,\u001b[0m\u001b[0mproduction_data\u001b[0m\u001b[0;34m,\u001b[0m\u001b[0mcolors\u001b[0m\u001b[0;34m=\u001b[0m\u001b[0mCATEGORY10\u001b[0m\u001b[0;34m,\u001b[0m \u001b[0mlabels\u001b[0m\u001b[0;34m=\u001b[0m\u001b[0;34m[\u001b[0m\u001b[0;34m\"oil\"\u001b[0m\u001b[0;34m,\u001b[0m \u001b[0;34m\"Biomass\"\u001b[0m\u001b[0;34m,\u001b[0m \u001b[0;34m\"Coal\"\u001b[0m\u001b[0;34m,\u001b[0m\u001b[0;34m\"Wind\"\u001b[0m\u001b[0;34m,\u001b[0m\u001b[0;34m\"Hydro\"\u001b[0m\u001b[0;34m,\u001b[0m\u001b[0;34m\"Gas\"\u001b[0m\u001b[0;34m,\u001b[0m\u001b[0;34m\"\"\u001b[0m\u001b[0;34m,\u001b[0m\u001b[0;34m\"Nuclear\"\u001b[0m\u001b[0;34m]\u001b[0m\u001b[0;34m,\u001b[0m\u001b[0mdisplay_legend\u001b[0m\u001b[0;34m=\u001b[0m\u001b[0;32mTrue\u001b[0m\u001b[0;34m,\u001b[0m\u001b[0;34m)\u001b[0m\u001b[0;34m\u001b[0m\u001b[0;34m\u001b[0m\u001b[0m\n\u001b[0m\u001b[1;32m     39\u001b[0m \u001b[0maxes\u001b[0m \u001b[0;34m=\u001b[0m \u001b[0mplt\u001b[0m\u001b[0;34m.\u001b[0m\u001b[0maxes\u001b[0m\u001b[0;34m(\u001b[0m\u001b[0moptions\u001b[0m \u001b[0;34m=\u001b[0m \u001b[0maxes_options\u001b[0m\u001b[0;34m)\u001b[0m\u001b[0;34m\u001b[0m\u001b[0;34m\u001b[0m\u001b[0m\n\u001b[1;32m     40\u001b[0m \u001b[0;34m\u001b[0m\u001b[0m\n",
      "\u001b[0;32m~/miniconda3/envs/dashboard/lib/python3.10/site-packages/bqplot/pyplot.py\u001b[0m in \u001b[0;36m_mark_with_data\u001b[0;34m(*args, **kwargs)\u001b[0m\n\u001b[1;32m    248\u001b[0m             \u001b[0mdata\u001b[0m \u001b[0;34m=\u001b[0m \u001b[0mkwargs\u001b[0m\u001b[0;34m.\u001b[0m\u001b[0mpop\u001b[0m\u001b[0;34m(\u001b[0m\u001b[0;34m'data'\u001b[0m\u001b[0;34m,\u001b[0m \u001b[0;32mNone\u001b[0m\u001b[0;34m)\u001b[0m\u001b[0;34m\u001b[0m\u001b[0;34m\u001b[0m\u001b[0m\n\u001b[1;32m    249\u001b[0m             \u001b[0;32mif\u001b[0m \u001b[0mdata\u001b[0m \u001b[0;32mis\u001b[0m \u001b[0;32mNone\u001b[0m\u001b[0;34m:\u001b[0m\u001b[0;34m\u001b[0m\u001b[0;34m\u001b[0m\u001b[0m\n\u001b[0;32m--> 250\u001b[0;31m                 \u001b[0;32mreturn\u001b[0m \u001b[0mfunc\u001b[0m\u001b[0;34m(\u001b[0m\u001b[0;34m*\u001b[0m\u001b[0margs\u001b[0m\u001b[0;34m,\u001b[0m \u001b[0;34m**\u001b[0m\u001b[0mkwargs\u001b[0m\u001b[0;34m)\u001b[0m\u001b[0;34m\u001b[0m\u001b[0;34m\u001b[0m\u001b[0m\n\u001b[0m\u001b[1;32m    251\u001b[0m             \u001b[0;32melse\u001b[0m\u001b[0;34m:\u001b[0m\u001b[0;34m\u001b[0m\u001b[0;34m\u001b[0m\u001b[0m\n\u001b[1;32m    252\u001b[0m                 \u001b[0mdata_args\u001b[0m \u001b[0;34m=\u001b[0m \u001b[0;34m[\u001b[0m\u001b[0mdata\u001b[0m\u001b[0;34m[\u001b[0m\u001b[0mi\u001b[0m\u001b[0;34m]\u001b[0m \u001b[0;32mif\u001b[0m \u001b[0mhashable\u001b[0m\u001b[0;34m(\u001b[0m\u001b[0mdata\u001b[0m\u001b[0;34m,\u001b[0m \u001b[0mi\u001b[0m\u001b[0;34m)\u001b[0m \u001b[0;32melse\u001b[0m \u001b[0mi\u001b[0m \u001b[0;32mfor\u001b[0m \u001b[0mi\u001b[0m \u001b[0;32min\u001b[0m \u001b[0margs\u001b[0m\u001b[0;34m]\u001b[0m\u001b[0;34m\u001b[0m\u001b[0;34m\u001b[0m\u001b[0m\n",
      "\u001b[0;32m~/miniconda3/envs/dashboard/lib/python3.10/site-packages/bqplot/pyplot.py\u001b[0m in \u001b[0;36mbar\u001b[0;34m(x, y, **kwargs)\u001b[0m\n\u001b[1;32m    930\u001b[0m     \u001b[0mkwargs\u001b[0m\u001b[0;34m[\u001b[0m\u001b[0;34m'x'\u001b[0m\u001b[0;34m]\u001b[0m \u001b[0;34m=\u001b[0m \u001b[0mx\u001b[0m\u001b[0;34m\u001b[0m\u001b[0;34m\u001b[0m\u001b[0m\n\u001b[1;32m    931\u001b[0m     \u001b[0mkwargs\u001b[0m\u001b[0;34m[\u001b[0m\u001b[0;34m'y'\u001b[0m\u001b[0;34m]\u001b[0m \u001b[0;34m=\u001b[0m \u001b[0my\u001b[0m\u001b[0;34m\u001b[0m\u001b[0;34m\u001b[0m\u001b[0m\n\u001b[0;32m--> 932\u001b[0;31m     \u001b[0;32mreturn\u001b[0m \u001b[0m_draw_mark\u001b[0m\u001b[0;34m(\u001b[0m\u001b[0mBars\u001b[0m\u001b[0;34m,\u001b[0m \u001b[0;34m**\u001b[0m\u001b[0mkwargs\u001b[0m\u001b[0;34m)\u001b[0m\u001b[0;34m\u001b[0m\u001b[0;34m\u001b[0m\u001b[0m\n\u001b[0m\u001b[1;32m    933\u001b[0m \u001b[0;34m\u001b[0m\u001b[0m\n\u001b[1;32m    934\u001b[0m \u001b[0;34m\u001b[0m\u001b[0m\n",
      "\u001b[0;32m~/miniconda3/envs/dashboard/lib/python3.10/site-packages/bqplot/pyplot.py\u001b[0m in \u001b[0;36m_draw_mark\u001b[0;34m(mark_type, options, axes_options, **kwargs)\u001b[0m\n\u001b[1;32m    641\u001b[0m             sorted_scales = sorted(compat_scale_types,\n\u001b[1;32m    642\u001b[0m                                    key=lambda x: x.precedence)\n\u001b[0;32m--> 643\u001b[0;31m             \u001b[0mscales\u001b[0m\u001b[0;34m[\u001b[0m\u001b[0mname\u001b[0m\u001b[0;34m]\u001b[0m \u001b[0;34m=\u001b[0m \u001b[0msorted_scales\u001b[0m\u001b[0;34m[\u001b[0m\u001b[0;34m-\u001b[0m\u001b[0;36m1\u001b[0m\u001b[0;34m]\u001b[0m\u001b[0;34m(\u001b[0m\u001b[0;34m**\u001b[0m\u001b[0moptions\u001b[0m\u001b[0;34m.\u001b[0m\u001b[0mget\u001b[0m\u001b[0;34m(\u001b[0m\u001b[0mname\u001b[0m\u001b[0;34m,\u001b[0m \u001b[0;34m{\u001b[0m\u001b[0;34m}\u001b[0m\u001b[0;34m)\u001b[0m\u001b[0;34m)\u001b[0m\u001b[0;34m\u001b[0m\u001b[0;34m\u001b[0m\u001b[0m\n\u001b[0m\u001b[1;32m    644\u001b[0m             \u001b[0;31m# Adding the scale to the context scales\u001b[0m\u001b[0;34m\u001b[0m\u001b[0;34m\u001b[0m\u001b[0m\n\u001b[1;32m    645\u001b[0m             \u001b[0;32mif\u001b[0m \u001b[0mupdate_context\u001b[0m\u001b[0;34m:\u001b[0m\u001b[0;34m\u001b[0m\u001b[0;34m\u001b[0m\u001b[0m\n",
      "\u001b[0;31mIndexError\u001b[0m: list index out of range"
     ]
    }
   ],
   "source": [
    "import numpy as np\n",
    "import bqplot.pyplot as plt\n",
    "from bqplot import CATEGORY10, ColorScale , DateScale, LinearScale, Lines, Axis, Figure , OrdinalScale , Bars , Axis\n",
    "from lib.ENTSOE import fetch_production\n",
    "import pandas as pd\n",
    "from datetime import datetime, timedelta\n",
    "import lib\n",
    "from pkgutil import iter_modules\n",
    "import importlib\n",
    "\n",
    "parsers_submodules = [module.name for module in iter_modules(lib.__path__)]\n",
    "print(parsers_submodules)\n",
    "\n",
    "country_parser = importlib.import_module('lib.{}'.format(parsers_submodules[3]))\n",
    "print(country_parser)\n",
    "\n",
    "find = str(input(\"veuillez rentrer le code du pays correspondant : \"))\n",
    "a = fetch_production(find)\n",
    "     \n",
    "param_production = [param1['production'] for param1 in a]\n",
    "param_coal = [param1['coal'] for param1 in param_production]\n",
    "param_gas = [param1['gas'] for param1 in param_production]\n",
    "param_oil = [param1['oil'] for param1 in param_production]\n",
    "param_solar = [param1['solar'] for param1 in param_production]\n",
    "param_biomass = [param1['biomass'] for param1 in param_production]\n",
    "param_hydro = [param1['hydro'] for param1 in param_production]\n",
    "param_wind =[param1['wind'] for param1 in param_production]\n",
    "param2 = [param['datetime'] for param in a]\n",
    "\n",
    "\n",
    "production_data = [param_coal,param_gas,param_oil,param_solar,param_biomass,param_hydro,param_wind]\n",
    "time_data = np.array(param2,dtype='datetime64')\n",
    "\n",
    "\n",
    "fig = plt.figure(title=\"Electricity production\")\n",
    "\n",
    "axes_options = {\"x\": {\"label\": \"time \"}, \"y\": {\"label\": \"production (MWh) \",\"label_offset\" : \"6ex\"}}\n",
    "bar1 =  plt.bar(time_data,production_data,colors=CATEGORY10, labels=[\"oil\", \"Biomass\", \"Coal\",\"Wind\",\"Hydro\",\"Gas\",\"\",\"Nuclear\"],display_legend=True,)\n",
    "axes = plt.axes(options = axes_options)\n",
    "\n",
    "fig\n",
    "\n"
   ]
  },
  {
   "cell_type": "code",
   "execution_count": null,
   "id": "1aeb1a88-8bab-4342-91b5-3d6460898230",
   "metadata": {},
   "outputs": [],
   "source": [
    "\n"
   ]
  },
  {
   "cell_type": "code",
   "execution_count": null,
   "id": "580eba50-1cf6-4f57-afdb-d5c5677f7f15",
   "metadata": {},
   "outputs": [],
   "source": []
  }
 ],
 "metadata": {
  "kernelspec": {
   "display_name": "Python 3 (ipykernel)",
   "language": "python",
   "name": "python3"
  },
  "language_info": {
   "codemirror_mode": {
    "name": "ipython",
    "version": 3
   },
   "file_extension": ".py",
   "mimetype": "text/x-python",
   "name": "python",
   "nbconvert_exporter": "python",
   "pygments_lexer": "ipython3",
   "version": "3.10.0"
  }
 },
 "nbformat": 4,
 "nbformat_minor": 5
}
