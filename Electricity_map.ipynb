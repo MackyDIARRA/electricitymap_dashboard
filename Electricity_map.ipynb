{
 "cells": [
  {
   "cell_type": "code",
   "execution_count": 4,
   "id": "00a9ae21-8446-4207-aae5-59e51ad821fa",
   "metadata": {},
   "outputs": [
    {
     "name": "stderr",
     "output_type": "stream",
     "text": [
      "/var/folders/d3/jm92yqd96dz8jxjznnxtzjmm0000gp/T/ipykernel_78526/1898704070.py:32: DeprecationWarning: parsing timezone aware datetimes is deprecated; this will raise an error in the future\n",
      "  time_data = np.array(param2,dtype='datetime64')\n"
     ]
    },
    {
     "data": {
      "application/vnd.jupyter.widget-view+json": {
       "model_id": "86ae1b9d8b9c4b13befd5ea5b0432911",
       "version_major": 2,
       "version_minor": 0
      },
      "text/plain": [
       "Map(center=[0.0, 0.0], controls=(ZoomControl(options=['position', 'zoom_in_text', 'zoom_in_title', 'zoom_out_t…"
      ]
     },
     "metadata": {},
     "output_type": "display_data"
    }
   ],
   "source": [
    "import numpy as np\n",
    "import bqplot.pyplot as plt\n",
    "from bqplot import CATEGORY10, ColorScale , DateScale, LinearScale, Lines, Axis, Figure , OrdinalScale , Bars , Axis\n",
    "from lib.ENTSOE import fetch_production\n",
    "import pandas as pd\n",
    "from datetime import datetime, timedelta\n",
    "import lib\n",
    "from pkgutil import iter_modules\n",
    "import importlib\n",
    "import os\n",
    "import json\n",
    "import random\n",
    "import requests\n",
    "from ipyleaflet import Map, GeoJSON, WidgetControl\n",
    "import ipywidgets as widgets\n",
    "\n",
    "\n",
    "\n",
    "find = str(input(\"veuillez rentrer le code du pays correspondant : \"))\n",
    "a = fetch_production(find)\n",
    "     \n",
    "def mapping(param1) :\n",
    "    param_production = [param1['production'] for param1 in a]\n",
    "    param_coal = [param1['coal'] for param1 in param_production]\n",
    "    param_gas = [param1['gas'] for param1 in param_production]\n",
    "    param_oil = [param1['oil'] for param1 in param_production]\n",
    "    param_solar = [param1['solar'] for param1 in param_production]\n",
    "    param_biomass = [param1['biomass'] for param1 in param_production]\n",
    "    param_hydro = [param1['hydro'] for param1 in param_production]\n",
    "    param_wind =[param1['wind'] for param1 in param_production]\n",
    "    param2 = [param['datetime'] for param in a]\n",
    "    production_data = [param_coal,param_gas,param_oil,param_solar,param_biomass,param_hydro,param_wind]\n",
    "    time_data = np.array(param2,dtype='datetime64')\n",
    "    fig = plt.figure(title=\"Electricity production\")\n",
    "    axes_options = {\"x\": {\"label\": \"time \"}, \"y\": {\"label\": \"production (MWh) \",\"label_offset\" : \"6ex\"}}\n",
    "    bar1 =  plt.bar(time_data,production_data,colors=CATEGORY10, labels=[\"oil\", \"Biomass\", \"Coal\",\"Wind\",\"Hydro\",\"Gas\",\"\",\"Nuclear\"],display_legend=True,)\n",
    "    axes = plt.axes(options = axes_options)\n",
    "\n",
    "    return fig\n",
    "\n",
    "b = mapping(a)\n",
    "\n",
    "\n",
    "with open(\"./zones.json\") as obj:\n",
    "    data = json.load(obj)\n",
    "    \n",
    "\n",
    "\n",
    "with open(\"./eu-countries.geo.json\") as f:\n",
    "    countries = json.load(f)\n",
    "\n",
    "m = Map(zoom=3)\n",
    "\n",
    "geo = GeoJSON(data=countries,style={\"fillColor\": \"white\", \"weight\": 0.5},hover_style={\"fillColor\": \"#1f77b4\"},name=\"Countries\")\n",
    "m.add_layer(geo)\n",
    "\n",
    "\n",
    "widget_control1 = WidgetControl(widget=b, position=\"bottomright\")\n",
    "m.add_control(widget_control1)\n",
    "\n",
    "\n",
    "def on_click(event, feature, **kwargs):\n",
    "    if country == \"click\" :\n",
    "        global b\n",
    "    \n",
    "    \n",
    "    \n",
    "    #country_name = feature[\"properties\"][\"name\"]\n",
    "    \n",
    "geo.on_click(on_click)\n",
    "\n",
    "\n",
    "m\n",
    "\n",
    "\n",
    "\n",
    "\n",
    "\n",
    "\n"
   ]
  },
  {
   "cell_type": "code",
   "execution_count": null,
   "id": "11f9a046-e31b-4fbf-822f-95ec78c7c00c",
   "metadata": {},
   "outputs": [],
   "source": []
  }
 ],
 "metadata": {
  "kernelspec": {
   "display_name": "Python 3 (ipykernel)",
   "language": "python",
   "name": "python3"
  },
  "language_info": {
   "codemirror_mode": {
    "name": "ipython",
    "version": 3
   },
   "file_extension": ".py",
   "mimetype": "text/x-python",
   "name": "python",
   "nbconvert_exporter": "python",
   "pygments_lexer": "ipython3",
   "version": "3.10.0"
  }
 },
 "nbformat": 4,
 "nbformat_minor": 5
}
