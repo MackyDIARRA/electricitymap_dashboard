{
 "cells": [
  {
   "cell_type": "code",
   "execution_count": 4,
   "id": "00a9ae21-8446-4207-aae5-59e51ad821fa",
   "metadata": {},
   "outputs": [
    {
     "name": "stderr",
     "output_type": "stream",
     "text": [
      "/var/folders/d3/jm92yqd96dz8jxjznnxtzjmm0000gp/T/ipykernel_34595/1947156054.py:41: DeprecationWarning: parsing timezone aware datetimes is deprecated; this will raise an error in the future\n",
      "  time_data = np.array(param2,dtype='datetime64')\n"
     ]
    },
    {
     "data": {
      "application/vnd.jupyter.widget-view+json": {
       "model_id": "96cb783db6994b2a8d3a4ccd91dc9c29",
       "version_major": 2,
       "version_minor": 0
      },
      "text/plain": [
       "FlexLayout(children={'Map': TwoByTwoLayout(children=(Figure(animation_duration=1000, axes=[Axis(label='time ',…"
      ]
     },
     "metadata": {},
     "output_type": "display_data"
    }
   ],
   "source": [
    "import numpy as np\n",
    "import bqplot.pyplot as plt\n",
    "from bqplot import CATEGORY10, ColorScale , DateScale, LinearScale, Lines, Axis, Figure , OrdinalScale , Bars , Axis\n",
    "from lib.ENTSOE import fetch_production\n",
    "import pandas as pd\n",
    "from datetime import datetime, timedelta\n",
    "import lib\n",
    "from pkgutil import iter_modules\n",
    "import importlib\n",
    "import os\n",
    "from ipywidgets import TwoByTwoLayout , Button, Layout, jslink, IntText, IntSlider\n",
    "import json\n",
    "import random\n",
    "import requests\n",
    "from ipyleaflet import Map, GeoJSON, WidgetControl, FullScreenControl, ZoomControl\n",
    "import ipywidgets as widgets\n",
    "from ipyflex import FlexLayout\n",
    "\n",
    "with open(\"./eu-countries.geo.json\") as f:\n",
    "    countries = json.load(f)\n",
    "    \n",
    "m = Map(zoom=3,center=(48.30, 23.23), zoom_control=False)\n",
    "m.add_control(ZoomControl(position='topright'))\n",
    "m.add_control(FullScreenControl())\n",
    "geo = GeoJSON(data=countries,style={\"fillColor\": \"white\", \"weight\": 0.5},hover_style={\"fillColor\": \"#1f77b4\"},name=\"Countries\")\n",
    "m.add_layer(geo)\n",
    "\n",
    "\n",
    "data = fetch_production('IT')\n",
    "param = []\n",
    "labels = []\n",
    "\n",
    "# Populate lists\n",
    "productions = [\"wind\",\"coal\",\"gas\",\"nuclear\",\"biomass\",\"hydro\",\"oil\",\"solar\",\"unknown\"]\n",
    "for production in productions:\n",
    "    if production in data[0]['production'] and data[0]['production'][production] is not None:\n",
    "        param.append([subdata['production'][production] for subdata in data])\n",
    "        labels.append(production)\n",
    "\n",
    "param2 = [param['datetime'] for param in data]\n",
    "time_data = np.array(param2,dtype='datetime64')\n",
    "fig = plt.figure(title=\"Italia\", animation_duration=1000)\n",
    "axes_options = {\"x\": {\"label\": \"time \"}, \"y\": {\"label\": \"production (MWh) \",\"label_offset\" : \"6ex\"}}\n",
    "bar1 =  plt.bar(time_data,param,colors=CATEGORY10,labels=labels,display_legend=True)\n",
    "axes = plt.axes(options = axes_options)\n",
    "\n",
    "app = TwoByTwoLayout(bottom_right=fig)\n",
    "\"\"\"\n",
    "widget_control1 = WidgetControl(widget=fig, position=\"bottomright\")\n",
    "m.add_control(widget_control1)\n",
    "\"\"\"\n",
    "\n",
    "def update_figure(param, labels , time_data , country):\n",
    "    bar1.y = param\n",
    "    bar1.x = time_data\n",
    "    fig.title = country\n",
    "    \n",
    "\n",
    "    \n",
    "\n",
    "\n",
    "def on_click(event, feature, **kwargs):\n",
    "  \n",
    "    data = fetch_production(feature['properties']['iso_a2'])\n",
    "    param = []\n",
    "    labels = []\n",
    "    productions = [\"wind\",\"coal\",\"gas\",\"nuclear\",\"biomass\",\"hydro\",\"oil\",\"solar\",\"unknown\"]\n",
    "    for production in productions:\n",
    "        if production in data[0]['production'] and data[0]['production'][production] is not None:\n",
    "            param.append([subdata['production'][production] for subdata in data])\n",
    "            labels.append(production)\n",
    "    \n",
    "    \n",
    "    update_figure(param, labels , time_data ,feature['properties']['name'])\n",
    "\n",
    "geo.on_click(on_click)\n",
    "\"\"\"\n",
    "clicked_country = None\n",
    "\n",
    "def update_geojson(feature, **kwargs):\n",
    "    global clicked_country\n",
    "    data = fetch_production(feature['properties']['iso_a2'])\n",
    "  \n",
    "    if clicked_country is None:\n",
    "        clicked_country = GeoJSON(data=data, style={\"color\": \"blue\",\"fillOpacity\": 0.5})\n",
    "        m.add_layer(clicked_country)\n",
    "    else:\n",
    "        clicked_country.data = data\n",
    "    \n",
    "     \n",
    "    param = []\n",
    "    labels = []\n",
    "    productions = [\"wind\",\"coal\",\"gas\",\"nuclear\",\"biomass\",\"hydro\",\"oil\",\"solar\",\"unknown\"]\n",
    "    for production in productions:\n",
    "        if production in data[0]['production'] and data[0]['production'][production] is not None:\n",
    "            param.append([subdata['production'][production] for subdata in data])\n",
    "            labels.append(production)\n",
    "    \n",
    "    \n",
    "    update_figure(param, labels , time_data ,feature['properties']['name'])\n",
    "\n",
    "        \n",
    "geo.on_click(update_geojson)\n",
    "\"\"\"\n",
    "Element = {'Map': app , 'Figure': fig}\n",
    "w = FlexLayout(Element, style={'height':'620px'},editable=False)\n",
    "w\n",
    "\n"
   ]
  },
  {
   "cell_type": "raw",
   "id": "2f23a9fa-fb00-40ba-a477-5f7e5944624d",
   "metadata": {},
   "source": []
  },
  {
   "cell_type": "code",
   "execution_count": null,
   "id": "b5606d95-c136-4eb7-821f-a3c5a5a655b5",
   "metadata": {},
   "outputs": [],
   "source": []
  },
  {
   "cell_type": "code",
   "execution_count": null,
   "id": "59c7f2b3-392c-4a68-9db8-7d5766adb5e3",
   "metadata": {},
   "outputs": [],
   "source": []
  }
 ],
 "metadata": {
  "kernelspec": {
   "display_name": "Python 3 (ipykernel)",
   "language": "python",
   "name": "python3"
  },
  "language_info": {
   "codemirror_mode": {
    "name": "ipython",
    "version": 3
   },
   "file_extension": ".py",
   "mimetype": "text/x-python",
   "name": "python",
   "nbconvert_exporter": "python",
   "pygments_lexer": "ipython3",
   "version": "3.10.0"
  }
 },
 "nbformat": 4,
 "nbformat_minor": 5
}
