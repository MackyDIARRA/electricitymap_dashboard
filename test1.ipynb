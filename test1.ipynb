{
 "cells": [
  {
   "cell_type": "code",
   "execution_count": 2,
   "id": "05c6ed54-05ed-4ab0-89c9-62b19d6c0984",
   "metadata": {},
   "outputs": [
    {
     "name": "stdout",
     "output_type": "stream",
     "text": [
      "[{'zoneKey': 'FR', 'currency': 'EUR', 'datetime': datetime.datetime(2021, 12, 15, 0, 0, tzinfo=tzfile('/usr/share/zoneinfo/Europe/Paris')), 'source': 'rte-france.com', 'price': 295.24}, {'zoneKey': 'FR', 'currency': 'EUR', 'datetime': datetime.datetime(2021, 12, 15, 1, 0, tzinfo=tzfile('/usr/share/zoneinfo/Europe/Paris')), 'source': 'rte-france.com', 'price': 281.46}, {'zoneKey': 'FR', 'currency': 'EUR', 'datetime': datetime.datetime(2021, 12, 15, 2, 0, tzinfo=tzfile('/usr/share/zoneinfo/Europe/Paris')), 'source': 'rte-france.com', 'price': 274.59}, {'zoneKey': 'FR', 'currency': 'EUR', 'datetime': datetime.datetime(2021, 12, 15, 3, 0, tzinfo=tzfile('/usr/share/zoneinfo/Europe/Paris')), 'source': 'rte-france.com', 'price': 262.2}, {'zoneKey': 'FR', 'currency': 'EUR', 'datetime': datetime.datetime(2021, 12, 15, 4, 0, tzinfo=tzfile('/usr/share/zoneinfo/Europe/Paris')), 'source': 'rte-france.com', 'price': 261.73}, {'zoneKey': 'FR', 'currency': 'EUR', 'datetime': datetime.datetime(2021, 12, 15, 5, 0, tzinfo=tzfile('/usr/share/zoneinfo/Europe/Paris')), 'source': 'rte-france.com', 'price': 283.53}, {'zoneKey': 'FR', 'currency': 'EUR', 'datetime': datetime.datetime(2021, 12, 15, 6, 0, tzinfo=tzfile('/usr/share/zoneinfo/Europe/Paris')), 'source': 'rte-france.com', 'price': 332.74}, {'zoneKey': 'FR', 'currency': 'EUR', 'datetime': datetime.datetime(2021, 12, 15, 7, 0, tzinfo=tzfile('/usr/share/zoneinfo/Europe/Paris')), 'source': 'rte-france.com', 'price': 393.13}, {'zoneKey': 'FR', 'currency': 'EUR', 'datetime': datetime.datetime(2021, 12, 15, 8, 0, tzinfo=tzfile('/usr/share/zoneinfo/Europe/Paris')), 'source': 'rte-france.com', 'price': 417.26}, {'zoneKey': 'FR', 'currency': 'EUR', 'datetime': datetime.datetime(2021, 12, 15, 9, 0, tzinfo=tzfile('/usr/share/zoneinfo/Europe/Paris')), 'source': 'rte-france.com', 'price': 402.0}, {'zoneKey': 'FR', 'currency': 'EUR', 'datetime': datetime.datetime(2021, 12, 15, 10, 0, tzinfo=tzfile('/usr/share/zoneinfo/Europe/Paris')), 'source': 'rte-france.com', 'price': 390.0}, {'zoneKey': 'FR', 'currency': 'EUR', 'datetime': datetime.datetime(2021, 12, 15, 11, 0, tzinfo=tzfile('/usr/share/zoneinfo/Europe/Paris')), 'source': 'rte-france.com', 'price': 384.57}, {'zoneKey': 'FR', 'currency': 'EUR', 'datetime': datetime.datetime(2021, 12, 15, 12, 0, tzinfo=tzfile('/usr/share/zoneinfo/Europe/Paris')), 'source': 'rte-france.com', 'price': 365.0}, {'zoneKey': 'FR', 'currency': 'EUR', 'datetime': datetime.datetime(2021, 12, 15, 13, 0, tzinfo=tzfile('/usr/share/zoneinfo/Europe/Paris')), 'source': 'rte-france.com', 'price': 344.91}, {'zoneKey': 'FR', 'currency': 'EUR', 'datetime': datetime.datetime(2021, 12, 15, 14, 0, tzinfo=tzfile('/usr/share/zoneinfo/Europe/Paris')), 'source': 'rte-france.com', 'price': 354.0}, {'zoneKey': 'FR', 'currency': 'EUR', 'datetime': datetime.datetime(2021, 12, 15, 15, 0, tzinfo=tzfile('/usr/share/zoneinfo/Europe/Paris')), 'source': 'rte-france.com', 'price': 349.92}, {'zoneKey': 'FR', 'currency': 'EUR', 'datetime': datetime.datetime(2021, 12, 15, 16, 0, tzinfo=tzfile('/usr/share/zoneinfo/Europe/Paris')), 'source': 'rte-france.com', 'price': 350.44}, {'zoneKey': 'FR', 'currency': 'EUR', 'datetime': datetime.datetime(2021, 12, 15, 17, 0, tzinfo=tzfile('/usr/share/zoneinfo/Europe/Paris')), 'source': 'rte-france.com', 'price': 402.0}, {'zoneKey': 'FR', 'currency': 'EUR', 'datetime': datetime.datetime(2021, 12, 15, 18, 0, tzinfo=tzfile('/usr/share/zoneinfo/Europe/Paris')), 'source': 'rte-france.com', 'price': 410.0}, {'zoneKey': 'FR', 'currency': 'EUR', 'datetime': datetime.datetime(2021, 12, 15, 19, 0, tzinfo=tzfile('/usr/share/zoneinfo/Europe/Paris')), 'source': 'rte-france.com', 'price': 410.0}, {'zoneKey': 'FR', 'currency': 'EUR', 'datetime': datetime.datetime(2021, 12, 15, 20, 0, tzinfo=tzfile('/usr/share/zoneinfo/Europe/Paris')), 'source': 'rte-france.com', 'price': 391.57}, {'zoneKey': 'FR', 'currency': 'EUR', 'datetime': datetime.datetime(2021, 12, 15, 21, 0, tzinfo=tzfile('/usr/share/zoneinfo/Europe/Paris')), 'source': 'rte-france.com', 'price': 350.0}, {'zoneKey': 'FR', 'currency': 'EUR', 'datetime': datetime.datetime(2021, 12, 15, 22, 0, tzinfo=tzfile('/usr/share/zoneinfo/Europe/Paris')), 'source': 'rte-france.com', 'price': 318.1}, {'zoneKey': 'FR', 'currency': 'EUR', 'datetime': datetime.datetime(2021, 12, 15, 23, 0, tzinfo=tzfile('/usr/share/zoneinfo/Europe/Paris')), 'source': 'rte-france.com', 'price': 286.36}, {'zoneKey': 'FR', 'currency': 'EUR', 'datetime': datetime.datetime(2021, 12, 16, 0, 0, tzinfo=tzfile('/usr/share/zoneinfo/Europe/Paris')), 'source': 'rte-france.com', 'price': 291.04}, {'zoneKey': 'FR', 'currency': 'EUR', 'datetime': datetime.datetime(2021, 12, 16, 1, 0, tzinfo=tzfile('/usr/share/zoneinfo/Europe/Paris')), 'source': 'rte-france.com', 'price': 279.5}, {'zoneKey': 'FR', 'currency': 'EUR', 'datetime': datetime.datetime(2021, 12, 16, 2, 0, tzinfo=tzfile('/usr/share/zoneinfo/Europe/Paris')), 'source': 'rte-france.com', 'price': 273.79}, {'zoneKey': 'FR', 'currency': 'EUR', 'datetime': datetime.datetime(2021, 12, 16, 3, 0, tzinfo=tzfile('/usr/share/zoneinfo/Europe/Paris')), 'source': 'rte-france.com', 'price': 260.22}, {'zoneKey': 'FR', 'currency': 'EUR', 'datetime': datetime.datetime(2021, 12, 16, 4, 0, tzinfo=tzfile('/usr/share/zoneinfo/Europe/Paris')), 'source': 'rte-france.com', 'price': 251.78}, {'zoneKey': 'FR', 'currency': 'EUR', 'datetime': datetime.datetime(2021, 12, 16, 5, 0, tzinfo=tzfile('/usr/share/zoneinfo/Europe/Paris')), 'source': 'rte-france.com', 'price': 266.49}, {'zoneKey': 'FR', 'currency': 'EUR', 'datetime': datetime.datetime(2021, 12, 16, 6, 0, tzinfo=tzfile('/usr/share/zoneinfo/Europe/Paris')), 'source': 'rte-france.com', 'price': 321.4}, {'zoneKey': 'FR', 'currency': 'EUR', 'datetime': datetime.datetime(2021, 12, 16, 7, 0, tzinfo=tzfile('/usr/share/zoneinfo/Europe/Paris')), 'source': 'rte-france.com', 'price': 390.0}, {'zoneKey': 'FR', 'currency': 'EUR', 'datetime': datetime.datetime(2021, 12, 16, 8, 0, tzinfo=tzfile('/usr/share/zoneinfo/Europe/Paris')), 'source': 'rte-france.com', 'price': 411.12}, {'zoneKey': 'FR', 'currency': 'EUR', 'datetime': datetime.datetime(2021, 12, 16, 9, 0, tzinfo=tzfile('/usr/share/zoneinfo/Europe/Paris')), 'source': 'rte-france.com', 'price': 416.8}, {'zoneKey': 'FR', 'currency': 'EUR', 'datetime': datetime.datetime(2021, 12, 16, 10, 0, tzinfo=tzfile('/usr/share/zoneinfo/Europe/Paris')), 'source': 'rte-france.com', 'price': 408.8}, {'zoneKey': 'FR', 'currency': 'EUR', 'datetime': datetime.datetime(2021, 12, 16, 11, 0, tzinfo=tzfile('/usr/share/zoneinfo/Europe/Paris')), 'source': 'rte-france.com', 'price': 403.54}, {'zoneKey': 'FR', 'currency': 'EUR', 'datetime': datetime.datetime(2021, 12, 16, 12, 0, tzinfo=tzfile('/usr/share/zoneinfo/Europe/Paris')), 'source': 'rte-france.com', 'price': 395.66}, {'zoneKey': 'FR', 'currency': 'EUR', 'datetime': datetime.datetime(2021, 12, 16, 13, 0, tzinfo=tzfile('/usr/share/zoneinfo/Europe/Paris')), 'source': 'rte-france.com', 'price': 390.0}, {'zoneKey': 'FR', 'currency': 'EUR', 'datetime': datetime.datetime(2021, 12, 16, 14, 0, tzinfo=tzfile('/usr/share/zoneinfo/Europe/Paris')), 'source': 'rte-france.com', 'price': 395.24}, {'zoneKey': 'FR', 'currency': 'EUR', 'datetime': datetime.datetime(2021, 12, 16, 15, 0, tzinfo=tzfile('/usr/share/zoneinfo/Europe/Paris')), 'source': 'rte-france.com', 'price': 399.72}, {'zoneKey': 'FR', 'currency': 'EUR', 'datetime': datetime.datetime(2021, 12, 16, 16, 0, tzinfo=tzfile('/usr/share/zoneinfo/Europe/Paris')), 'source': 'rte-france.com', 'price': 416.23}, {'zoneKey': 'FR', 'currency': 'EUR', 'datetime': datetime.datetime(2021, 12, 16, 17, 0, tzinfo=tzfile('/usr/share/zoneinfo/Europe/Paris')), 'source': 'rte-france.com', 'price': 425.0}, {'zoneKey': 'FR', 'currency': 'EUR', 'datetime': datetime.datetime(2021, 12, 16, 18, 0, tzinfo=tzfile('/usr/share/zoneinfo/Europe/Paris')), 'source': 'rte-france.com', 'price': 417.25}, {'zoneKey': 'FR', 'currency': 'EUR', 'datetime': datetime.datetime(2021, 12, 16, 19, 0, tzinfo=tzfile('/usr/share/zoneinfo/Europe/Paris')), 'source': 'rte-france.com', 'price': 404.57}, {'zoneKey': 'FR', 'currency': 'EUR', 'datetime': datetime.datetime(2021, 12, 16, 20, 0, tzinfo=tzfile('/usr/share/zoneinfo/Europe/Paris')), 'source': 'rte-france.com', 'price': 366.13}, {'zoneKey': 'FR', 'currency': 'EUR', 'datetime': datetime.datetime(2021, 12, 16, 21, 0, tzinfo=tzfile('/usr/share/zoneinfo/Europe/Paris')), 'source': 'rte-france.com', 'price': 320.0}, {'zoneKey': 'FR', 'currency': 'EUR', 'datetime': datetime.datetime(2021, 12, 16, 22, 0, tzinfo=tzfile('/usr/share/zoneinfo/Europe/Paris')), 'source': 'rte-france.com', 'price': 290.55}, {'zoneKey': 'FR', 'currency': 'EUR', 'datetime': datetime.datetime(2021, 12, 16, 23, 0, tzinfo=tzfile('/usr/share/zoneinfo/Europe/Paris')), 'source': 'rte-france.com', 'price': 279.37}]\n"
     ]
    }
   ],
   "source": [
    "#!/usr/bin/env python3\n",
    "\n",
    "from lib.FR import fetch_price\n",
    "print(fetch_price('FR'))\n"
   ]
  },
  {
   "cell_type": "code",
   "execution_count": null,
   "id": "0c1ae988-f4f0-4643-a22f-6b5187a4db73",
   "metadata": {},
   "outputs": [],
   "source": []
  }
 ],
 "metadata": {
  "kernelspec": {
   "display_name": "Python 3 (ipykernel)",
   "language": "python",
   "name": "python3"
  },
  "language_info": {
   "codemirror_mode": {
    "name": "ipython",
    "version": 3
   },
   "file_extension": ".py",
   "mimetype": "text/x-python",
   "name": "python",
   "nbconvert_exporter": "python",
   "pygments_lexer": "ipython3",
   "version": "3.10.0"
  }
 },
 "nbformat": 4,
 "nbformat_minor": 5
}
