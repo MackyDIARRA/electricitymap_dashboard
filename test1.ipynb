{
 "cells": [
  {
   "cell_type": "code",
   "execution_count": null,
   "id": "9c29c74b-ec42-4c33-96e4-e2ffce4e7f69",
   "metadata": {},
   "outputs": [],
   "source": [
    "import numpy as np\n",
    "import bqplot.pyplot as plt\n",
    "from bqplot import CATEGORY10, ColorScale , DateScale, LinearScale, Lines, Axis, Figure , OrdinalScale , Bars , Axis\n",
    "from lib.ENTSOE import fetch_production ,VALIDATIONS\n",
    "import pandas as pd\n",
    "from datetime import datetime, timedelta\n",
    "import lib\n",
    "from pkgutil import iter_modules\n",
    "import importlib\n",
    "import os\n",
    "import json\n",
    "import random\n",
    "import requests\n",
    "from ipyleaflet import Map, GeoJSON, WidgetControl\n",
    "import ipywidgets as widgets\n",
    "\n",
    "with open(\"./eu-countries.geo.json\") as f:\n",
    "    countries = json.load(f)\n",
    "\n",
    "m = Map()\n",
    "\n",
    "geojson = GeoJSON(data=countries)\n",
    "\n",
    "m.add_layer(geojson)\n",
    "\n",
    "m.zoom = 3\n",
    "\n",
    "def on_click(event, feature, **kwargs):\n",
    "    print(feature)\n",
    "    fig = 0\n",
    "    display(fig)\n",
    "\n",
    "geojson.on_click(on_click)\n",
    "\n",
    "m\n",
    "\n",
    "\n",
    "\n"
   ]
  },
  {
   "cell_type": "code",
   "execution_count": null,
   "id": "247b5ba0-6198-4007-8036-b4b2434c93b1",
   "metadata": {},
   "outputs": [],
   "source": [
    "\n",
    "\n",
    "a = {\"coal\": [1, 2, 3], \"wind\": [7, 8, 8]}\n",
    "b = {\"wind\": [7, 8, 8]}\n",
    "\n",
    "if \"coal\" in a :\n",
    "    print(True)\n",
    "\n",
    "elif \"coal\" in b :\n",
    "    print(True)\n",
    "    \n",
    "else :\n",
    "    print \n",
    "\n"
   ]
  },
  {
   "cell_type": "code",
   "execution_count": null,
   "id": "180cde14-2885-4020-a88e-820bb63cd1c2",
   "metadata": {},
   "outputs": [],
   "source": []
  },
  {
   "cell_type": "code",
   "execution_count": null,
   "id": "55302bfb-4c0e-4655-a4f2-ed6684d93c3c",
   "metadata": {},
   "outputs": [],
   "source": []
  }
 ],
 "metadata": {
  "kernelspec": {
   "display_name": "Python 3 (ipykernel)",
   "language": "python",
   "name": "python3"
  },
  "language_info": {
   "codemirror_mode": {
    "name": "ipython",
    "version": 3
   },
   "file_extension": ".py",
   "mimetype": "text/x-python",
   "name": "python",
   "nbconvert_exporter": "python",
   "pygments_lexer": "ipython3",
   "version": "3.10.0"
  }
 },
 "nbformat": 4,
 "nbformat_minor": 5
}
