{
 "cells": [
  {
   "cell_type": "code",
   "execution_count": null,
   "id": "9c29c74b-ec42-4c33-96e4-e2ffce4e7f69",
   "metadata": {},
   "outputs": [],
   "source": [
    "from lib.FR import fetch_production\n",
    "a = fetch_production('FR')\n",
    "print(a)\n",
    "\n"
   ]
  },
  {
   "cell_type": "code",
   "execution_count": null,
   "id": "247b5ba0-6198-4007-8036-b4b2434c93b1",
   "metadata": {},
   "outputs": [],
   "source": [
    "\n"
   ]
  },
  {
   "cell_type": "code",
   "execution_count": null,
   "id": "180cde14-2885-4020-a88e-820bb63cd1c2",
   "metadata": {},
   "outputs": [],
   "source": []
  }
 ],
 "metadata": {
  "kernelspec": {
   "display_name": "Python 3 (ipykernel)",
   "language": "python",
   "name": "python3"
  },
  "language_info": {
   "codemirror_mode": {
    "name": "ipython",
    "version": 3
   },
   "file_extension": ".py",
   "mimetype": "text/x-python",
   "name": "python",
   "nbconvert_exporter": "python",
   "pygments_lexer": "ipython3",
   "version": "3.10.0"
  }
 },
 "nbformat": 4,
 "nbformat_minor": 5
}
