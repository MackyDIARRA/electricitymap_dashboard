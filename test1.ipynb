{
 "cells": [
  {
   "cell_type": "code",
   "execution_count": 5,
   "id": "9c29c74b-ec42-4c33-96e4-e2ffce4e7f69",
   "metadata": {},
   "outputs": [
    {
     "name": "stderr",
     "output_type": "stream",
     "text": [
      "Self-consumption data not yet available for FR at 2022-01-27 12:00:00+00:00\n"
     ]
    },
    {
     "data": {
      "text/plain": [
       "{'zoneKey': 'FR',\n",
       " 'datetime': datetime.datetime(2022, 1, 27, 12, 0, tzinfo=tzutc()),\n",
       " 'consumption': 80439.0,\n",
       " 'source': 'entsoe.eu'}"
      ]
     },
     "execution_count": 5,
     "metadata": {},
     "output_type": "execute_result"
    }
   ],
   "source": [
    "\n",
    "import numpy as np\n",
    "import bqplot.pyplot as plt\n",
    "from bqplot import CATEGORY10, ColorScale , DateScale, LinearScale, Lines, Axis, Figure , OrdinalScale , Bars , Axis\n",
    "from lib.ENTSOE import fetch_consumption\n",
    "import pandas as pd\n",
    "from datetime import datetime, timedelta\n",
    "import lib\n",
    "from pkgutil import iter_modules\n",
    "import importlib\n",
    "\n",
    "a = fetch_consumption('FR')\n",
    "\"\"\"    \n",
    "param_consumption = [param1['consumption'] for param1 in a]\n",
    "\n",
    "param2 = [data['data'] for param in a]\n",
    "\n",
    "param_consumption \n",
    "param2\n",
    "\"\"\"\n",
    "a\n"
   ]
  },
  {
   "cell_type": "code",
   "execution_count": null,
   "id": "247b5ba0-6198-4007-8036-b4b2434c93b1",
   "metadata": {},
   "outputs": [],
   "source": [
    "\n"
   ]
  },
  {
   "cell_type": "code",
   "execution_count": null,
   "id": "180cde14-2885-4020-a88e-820bb63cd1c2",
   "metadata": {},
   "outputs": [],
   "source": []
  },
  {
   "cell_type": "code",
   "execution_count": null,
   "id": "55302bfb-4c0e-4655-a4f2-ed6684d93c3c",
   "metadata": {},
   "outputs": [],
   "source": []
  }
 ],
 "metadata": {
  "kernelspec": {
   "display_name": "Python 3 (ipykernel)",
   "language": "python",
   "name": "python3"
  },
  "language_info": {
   "codemirror_mode": {
    "name": "ipython",
    "version": 3
   },
   "file_extension": ".py",
   "mimetype": "text/x-python",
   "name": "python",
   "nbconvert_exporter": "python",
   "pygments_lexer": "ipython3",
   "version": "3.10.0"
  }
 },
 "nbformat": 4,
 "nbformat_minor": 5
}
